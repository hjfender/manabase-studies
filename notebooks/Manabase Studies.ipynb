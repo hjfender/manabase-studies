{
 "cells": [
  {
   "cell_type": "markdown",
   "metadata": {
    "heading_collapsed": true
   },
   "source": [
    "## Preamble"
   ]
  },
  {
   "cell_type": "code",
   "execution_count": 9,
   "metadata": {
    "ExecuteTime": {
     "end_time": "2020-04-24T12:56:06.467732Z",
     "start_time": "2020-04-24T12:56:05.962694Z"
    },
    "hidden": true
   },
   "outputs": [],
   "source": [
    "from scipy.special import comb\n",
    "from itertools import product\n",
    "import pandas as pd"
   ]
  },
  {
   "cell_type": "markdown",
   "metadata": {
    "ExecuteTime": {
     "end_time": "2020-04-09T15:48:25.485970Z",
     "start_time": "2020-04-09T15:48:25.479966Z"
    },
    "heading_collapsed": true
   },
   "source": [
    "## Functions"
   ]
  },
  {
   "cell_type": "code",
   "execution_count": 7,
   "metadata": {
    "ExecuteTime": {
     "end_time": "2020-04-24T12:55:56.286833Z",
     "start_time": "2020-04-24T12:55:56.258845Z"
    },
    "hidden": true
   },
   "outputs": [],
   "source": [
    "def hypergeo(k,n,K,N):\n",
    "    return comb(n,k)*comb(N-n,K-k)/comb(N,K)\n",
    "\n",
    "def hypergeo2events(k1,n1,k2,n2,K,N):\n",
    "    return comb(n1,k1)*comb(n2,k2)*comb(N-n1-n2,K-k1-k2)/comb(N,K)\n",
    "\n",
    "def hypergeoNevents(ks,ns,K,N):\n",
    "    if len(ks) != len(ns):\n",
    "        raise Exception(\"Input list sizes do not agree\")\n",
    "    result = comb(N-sum(ns),K-sum(ks))\n",
    "    for i in range(0,len(ns)):\n",
    "        k = ks[i]\n",
    "        n = ns[i]\n",
    "        result = result*comb(n,k)\n",
    "    return result/comb(N,K)\n",
    "        \n",
    "def hypergeo_cumulative(k,n,K,N):\n",
    "    result = 0\n",
    "    for i in range(0,k+1):\n",
    "        result += hypergeo(i,n,K,N)\n",
    "    return result\n",
    "\n",
    "def hypergeo2events_cumulative(k1,n1,k2,n2,K,N,intersection=True):\n",
    "    result = 0\n",
    "    i_s = range(0,k1+1)\n",
    "    j_s = range(0,k2+1)\n",
    "    for e in product(i_s, j_s):\n",
    "        result += hypergeo2events(e[0],n1,e[1],n2,K,N)\n",
    "    if intersection:\n",
    "        for e in product(range(0,k1), range(k2+1,n2+1)):\n",
    "            result += hypergeo2events(e[0],n1,e[1],n2,K,N)\n",
    "        for e in product(range(k1+1,n1+1), range(0,k2)):\n",
    "            result += hypergeo2events(e[0],n1,e[1],n2,K,N)\n",
    "    return result\n",
    "\n",
    "def hypergeoNevents_cumulative(ks,ns,K,N,intersection=True):\n",
    "    result = 0\n",
    "    inputs = []\n",
    "    for k in ks:\n",
    "        inputs.append(range(0,k+1))\n",
    "    for e in product(*inputs):\n",
    "        result += hypergeoNevents(list(e),ns,K,N)\n",
    "    if intersection:\n",
    "        for i in range(0,len(ks)):\n",
    "            j=0\n",
    "            inputs = []\n",
    "            for k in ks:\n",
    "                if i == j:\n",
    "                    inputs.append(range(0,k))\n",
    "                else:\n",
    "                    inputs.append(range(k+1,ns[j]+1))\n",
    "                j+=1\n",
    "            for e in product(*inputs):\n",
    "                result += hypergeoNevents(list(e),ns,K,N)\n",
    "    return result\n",
    "\n",
    "def distribute_k_over_n(k, l):\n",
    "    result = []\n",
    "    if k == 0:\n",
    "        result.append(l)\n",
    "    else:\n",
    "        for i in range(0,len(l)):\n",
    "            new_l = l.copy()\n",
    "            new_l[i] += 1\n",
    "            result.extend(distribute_k_over_n(k-1,new_l))\n",
    "    return result"
   ]
  },
  {
   "cell_type": "code",
   "execution_count": 3,
   "metadata": {
    "ExecuteTime": {
     "end_time": "2020-04-23T20:41:25.345646Z",
     "start_time": "2020-04-23T20:41:25.337647Z"
    },
    "hidden": true
   },
   "outputs": [],
   "source": [
    "def trunc(s):\n",
    "    return ((s*10000)//1)/10000"
   ]
  },
  {
   "cell_type": "markdown",
   "metadata": {
    "ExecuteTime": {
     "end_time": "2020-04-09T15:48:46.270030Z",
     "start_time": "2020-04-09T15:48:46.265037Z"
    },
    "heading_collapsed": true
   },
   "source": [
    "## Problem: Probabilities associated with A = drawing at least one of a card with a given CMC in a game and B = drawing enough lands to cast that card in the game"
   ]
  },
  {
   "cell_type": "code",
   "execution_count": 4,
   "metadata": {
    "ExecuteTime": {
     "end_time": "2020-04-23T20:41:25.351657Z",
     "start_time": "2020-04-23T20:41:25.347648Z"
    },
    "hidden": true
   },
   "outputs": [],
   "source": [
    "# number of cards in the deck\n",
    "N = 99\n",
    "\n",
    "# number of the given card in the deck\n",
    "n1 = 1\n",
    "\n",
    "# number of lands in the deck\n",
    "n2 = 40\n",
    "\n",
    "# initial number of cards drawn\n",
    "K = 7\n",
    "\n",
    "# number of the given card drawn\n",
    "k1 = 1\n",
    "\n",
    "# CMC of the card, i.e. number of lands drawn\n",
    "k2 = 3"
   ]
  },
  {
   "cell_type": "markdown",
   "metadata": {
    "ExecuteTime": {
     "end_time": "2020-04-09T16:02:54.264768Z",
     "start_time": "2020-04-09T16:02:54.260761Z"
    },
    "heading_collapsed": true,
    "hidden": true
   },
   "source": [
    "### P(A) over a number of draws"
   ]
  },
  {
   "cell_type": "code",
   "execution_count": 5,
   "metadata": {
    "ExecuteTime": {
     "end_time": "2020-04-23T20:41:25.378649Z",
     "start_time": "2020-04-23T20:41:25.353651Z"
    },
    "hidden": true
   },
   "outputs": [
    {
     "data": {
      "text/html": [
       "<div>\n",
       "<style scoped>\n",
       "    .dataframe tbody tr th:only-of-type {\n",
       "        vertical-align: middle;\n",
       "    }\n",
       "\n",
       "    .dataframe tbody tr th {\n",
       "        vertical-align: top;\n",
       "    }\n",
       "\n",
       "    .dataframe thead th {\n",
       "        text-align: right;\n",
       "    }\n",
       "</style>\n",
       "<table border=\"1\" class=\"dataframe\">\n",
       "  <thead>\n",
       "    <tr style=\"text-align: right;\">\n",
       "      <th></th>\n",
       "      <th>Draw 0</th>\n",
       "      <th>Draw 1</th>\n",
       "      <th>Draw 2</th>\n",
       "      <th>Draw 3</th>\n",
       "      <th>Draw 4</th>\n",
       "      <th>Draw 5</th>\n",
       "      <th>Draw 6</th>\n",
       "      <th>Draw 7</th>\n",
       "      <th>Draw 8</th>\n",
       "      <th>Draw 9</th>\n",
       "      <th>Draw 10</th>\n",
       "    </tr>\n",
       "  </thead>\n",
       "  <tbody>\n",
       "    <tr>\n",
       "      <th>0</th>\n",
       "      <td>0.070707</td>\n",
       "      <td>0.080808</td>\n",
       "      <td>0.090909</td>\n",
       "      <td>0.10101</td>\n",
       "      <td>0.111111</td>\n",
       "      <td>0.121212</td>\n",
       "      <td>0.131313</td>\n",
       "      <td>0.141414</td>\n",
       "      <td>0.151515</td>\n",
       "      <td>0.161616</td>\n",
       "      <td>0.171717</td>\n",
       "    </tr>\n",
       "  </tbody>\n",
       "</table>\n",
       "</div>"
      ],
      "text/plain": [
       "     Draw 0    Draw 1    Draw 2   Draw 3    Draw 4    Draw 5    Draw 6  \\\n",
       "0  0.070707  0.080808  0.090909  0.10101  0.111111  0.121212  0.131313   \n",
       "\n",
       "     Draw 7    Draw 8    Draw 9   Draw 10  \n",
       "0  0.141414  0.151515  0.161616  0.171717  "
      ]
     },
     "execution_count": 5,
     "metadata": {},
     "output_type": "execute_result"
    }
   ],
   "source": [
    "data = {f'Draw {i}' : [1-hypergeo_cumulative(k1-1,n1,K+i,N)] for i in range(0,11)}\n",
    "pa_df = pd.DataFrame(data = data)\n",
    "pa_df"
   ]
  },
  {
   "cell_type": "markdown",
   "metadata": {
    "heading_collapsed": true,
    "hidden": true
   },
   "source": [
    "### P(B) over a number of draws"
   ]
  },
  {
   "cell_type": "code",
   "execution_count": 6,
   "metadata": {
    "ExecuteTime": {
     "end_time": "2020-04-23T20:41:25.397651Z",
     "start_time": "2020-04-23T20:41:25.380649Z"
    },
    "hidden": true
   },
   "outputs": [
    {
     "data": {
      "text/html": [
       "<div>\n",
       "<style scoped>\n",
       "    .dataframe tbody tr th:only-of-type {\n",
       "        vertical-align: middle;\n",
       "    }\n",
       "\n",
       "    .dataframe tbody tr th {\n",
       "        vertical-align: top;\n",
       "    }\n",
       "\n",
       "    .dataframe thead th {\n",
       "        text-align: right;\n",
       "    }\n",
       "</style>\n",
       "<table border=\"1\" class=\"dataframe\">\n",
       "  <thead>\n",
       "    <tr style=\"text-align: right;\">\n",
       "      <th></th>\n",
       "      <th>Draw 0</th>\n",
       "      <th>Draw 1</th>\n",
       "      <th>Draw 2</th>\n",
       "      <th>Draw 3</th>\n",
       "      <th>Draw 4</th>\n",
       "      <th>Draw 5</th>\n",
       "      <th>Draw 6</th>\n",
       "      <th>Draw 7</th>\n",
       "      <th>Draw 8</th>\n",
       "      <th>Draw 9</th>\n",
       "      <th>Draw 10</th>\n",
       "    </tr>\n",
       "  </thead>\n",
       "  <tbody>\n",
       "    <tr>\n",
       "      <th>0</th>\n",
       "      <td>0.593712</td>\n",
       "      <td>0.702056</td>\n",
       "      <td>0.787779</td>\n",
       "      <td>0.852684</td>\n",
       "      <td>0.900086</td>\n",
       "      <td>0.933662</td>\n",
       "      <td>0.956819</td>\n",
       "      <td>0.972411</td>\n",
       "      <td>0.982684</td>\n",
       "      <td>0.989316</td>\n",
       "      <td>0.993517</td>\n",
       "    </tr>\n",
       "  </tbody>\n",
       "</table>\n",
       "</div>"
      ],
      "text/plain": [
       "     Draw 0    Draw 1    Draw 2    Draw 3    Draw 4    Draw 5    Draw 6  \\\n",
       "0  0.593712  0.702056  0.787779  0.852684  0.900086  0.933662  0.956819   \n",
       "\n",
       "     Draw 7    Draw 8    Draw 9   Draw 10  \n",
       "0  0.972411  0.982684  0.989316  0.993517  "
      ]
     },
     "execution_count": 6,
     "metadata": {},
     "output_type": "execute_result"
    }
   ],
   "source": [
    "data = {f'Draw {i}' : [1-hypergeo_cumulative(k2-1,n2,K+i,N)] for i in range(0,11)}\n",
    "pb_df = pd.DataFrame(data = data)\n",
    "pb_df"
   ]
  },
  {
   "cell_type": "markdown",
   "metadata": {
    "heading_collapsed": true,
    "hidden": true
   },
   "source": [
    "### P(A and B) over a number of draws"
   ]
  },
  {
   "cell_type": "code",
   "execution_count": 7,
   "metadata": {
    "ExecuteTime": {
     "end_time": "2020-04-23T20:41:25.404680Z",
     "start_time": "2020-04-23T20:41:25.399649Z"
    },
    "hidden": true
   },
   "outputs": [],
   "source": [
    "#data = {f'Draw {i}' : [1-hypergeo2events_cumulative(k1,n1,k2,n2,K+i,N)] for i in range(0,11)}\n",
    "#pab_df = pd.DataFrame(data = data)\n",
    "#pab_df"
   ]
  },
  {
   "cell_type": "code",
   "execution_count": 8,
   "metadata": {
    "ExecuteTime": {
     "end_time": "2020-04-23T20:41:25.416653Z",
     "start_time": "2020-04-23T20:41:25.409667Z"
    },
    "hidden": true
   },
   "outputs": [],
   "source": [
    "def prob(k, K, n1, n2, N, debug=False):    \n",
    "    total = 0\n",
    "\n",
    "    for k2 in range(k, K + 1):\n",
    "        for k1 in range(1, n1 + 1):\n",
    "            ks = [k1, k2]\n",
    "            ns = [n1, n2]\n",
    "\n",
    "            p = hypergeoNevents(ks,ns,K,N)\n",
    "            \n",
    "            total += p\n",
    "            \n",
    "            if debug:\n",
    "                print((k1,k2), p, total)\n",
    "        \n",
    "    return total"
   ]
  },
  {
   "cell_type": "code",
   "execution_count": 9,
   "metadata": {
    "ExecuteTime": {
     "end_time": "2020-04-23T20:41:25.440649Z",
     "start_time": "2020-04-23T20:41:25.420650Z"
    },
    "hidden": true
   },
   "outputs": [
    {
     "data": {
      "text/html": [
       "<div>\n",
       "<style scoped>\n",
       "    .dataframe tbody tr th:only-of-type {\n",
       "        vertical-align: middle;\n",
       "    }\n",
       "\n",
       "    .dataframe tbody tr th {\n",
       "        vertical-align: top;\n",
       "    }\n",
       "\n",
       "    .dataframe thead th {\n",
       "        text-align: right;\n",
       "    }\n",
       "</style>\n",
       "<table border=\"1\" class=\"dataframe\">\n",
       "  <thead>\n",
       "    <tr style=\"text-align: right;\">\n",
       "      <th></th>\n",
       "      <th>Draw 0</th>\n",
       "      <th>Draw 1</th>\n",
       "      <th>Draw 2</th>\n",
       "      <th>Draw 3</th>\n",
       "      <th>Draw 4</th>\n",
       "      <th>Draw 5</th>\n",
       "      <th>Draw 6</th>\n",
       "      <th>Draw 7</th>\n",
       "      <th>Draw 8</th>\n",
       "      <th>Draw 9</th>\n",
       "      <th>Draw 10</th>\n",
       "    </tr>\n",
       "  </thead>\n",
       "  <tbody>\n",
       "    <tr>\n",
       "      <th>0</th>\n",
       "      <td>0.033447</td>\n",
       "      <td>0.048719</td>\n",
       "      <td>0.064616</td>\n",
       "      <td>0.080351</td>\n",
       "      <td>0.095457</td>\n",
       "      <td>0.109722</td>\n",
       "      <td>0.123118</td>\n",
       "      <td>0.135719</td>\n",
       "      <td>0.147652</td>\n",
       "      <td>0.159054</td>\n",
       "      <td>0.170054</td>\n",
       "    </tr>\n",
       "  </tbody>\n",
       "</table>\n",
       "</div>"
      ],
      "text/plain": [
       "     Draw 0    Draw 1    Draw 2    Draw 3    Draw 4    Draw 5    Draw 6  \\\n",
       "0  0.033447  0.048719  0.064616  0.080351  0.095457  0.109722  0.123118   \n",
       "\n",
       "     Draw 7    Draw 8    Draw 9   Draw 10  \n",
       "0  0.135719  0.147652  0.159054  0.170054  "
      ]
     },
     "execution_count": 9,
     "metadata": {},
     "output_type": "execute_result"
    }
   ],
   "source": [
    "data = {f'Draw {i}' : [prob(k2,K+i,n1,n2,N)] for i in range(0,11)}\n",
    "pab_df = pd.DataFrame(data = data)\n",
    "pab_df"
   ]
  },
  {
   "cell_type": "markdown",
   "metadata": {
    "heading_collapsed": true,
    "hidden": true
   },
   "source": [
    "### P(A | B) over a number of draws"
   ]
  },
  {
   "cell_type": "code",
   "execution_count": 10,
   "metadata": {
    "ExecuteTime": {
     "end_time": "2020-04-23T20:41:25.467650Z",
     "start_time": "2020-04-23T20:41:25.442660Z"
    },
    "hidden": true
   },
   "outputs": [
    {
     "data": {
      "text/html": [
       "<div>\n",
       "<style scoped>\n",
       "    .dataframe tbody tr th:only-of-type {\n",
       "        vertical-align: middle;\n",
       "    }\n",
       "\n",
       "    .dataframe tbody tr th {\n",
       "        vertical-align: top;\n",
       "    }\n",
       "\n",
       "    .dataframe thead th {\n",
       "        text-align: right;\n",
       "    }\n",
       "</style>\n",
       "<table border=\"1\" class=\"dataframe\">\n",
       "  <thead>\n",
       "    <tr style=\"text-align: right;\">\n",
       "      <th></th>\n",
       "      <th>Draw 0</th>\n",
       "      <th>Draw 1</th>\n",
       "      <th>Draw 2</th>\n",
       "      <th>Draw 3</th>\n",
       "      <th>Draw 4</th>\n",
       "      <th>Draw 5</th>\n",
       "      <th>Draw 6</th>\n",
       "      <th>Draw 7</th>\n",
       "      <th>Draw 8</th>\n",
       "      <th>Draw 9</th>\n",
       "      <th>Draw 10</th>\n",
       "    </tr>\n",
       "  </thead>\n",
       "  <tbody>\n",
       "    <tr>\n",
       "      <th>0</th>\n",
       "      <td>0.056336</td>\n",
       "      <td>0.069394</td>\n",
       "      <td>0.082023</td>\n",
       "      <td>0.094234</td>\n",
       "      <td>0.106053</td>\n",
       "      <td>0.117518</td>\n",
       "      <td>0.128674</td>\n",
       "      <td>0.139569</td>\n",
       "      <td>0.150253</td>\n",
       "      <td>0.160771</td>\n",
       "      <td>0.171163</td>\n",
       "    </tr>\n",
       "  </tbody>\n",
       "</table>\n",
       "</div>"
      ],
      "text/plain": [
       "     Draw 0    Draw 1    Draw 2    Draw 3    Draw 4    Draw 5    Draw 6  \\\n",
       "0  0.056336  0.069394  0.082023  0.094234  0.106053  0.117518  0.128674   \n",
       "\n",
       "     Draw 7    Draw 8    Draw 9   Draw 10  \n",
       "0  0.139569  0.150253  0.160771  0.171163  "
      ]
     },
     "execution_count": 10,
     "metadata": {},
     "output_type": "execute_result"
    }
   ],
   "source": [
    "palb_df = pab_df/pb_df\n",
    "palb_df"
   ]
  },
  {
   "cell_type": "markdown",
   "metadata": {
    "ExecuteTime": {
     "end_time": "2020-04-09T18:53:47.959712Z",
     "start_time": "2020-04-09T18:53:47.955715Z"
    },
    "heading_collapsed": true,
    "hidden": true
   },
   "source": [
    "### P(B | A) over a number of draws"
   ]
  },
  {
   "cell_type": "code",
   "execution_count": 11,
   "metadata": {
    "ExecuteTime": {
     "end_time": "2020-04-23T20:41:25.484651Z",
     "start_time": "2020-04-23T20:41:25.469683Z"
    },
    "hidden": true
   },
   "outputs": [
    {
     "data": {
      "text/html": [
       "<div>\n",
       "<style scoped>\n",
       "    .dataframe tbody tr th:only-of-type {\n",
       "        vertical-align: middle;\n",
       "    }\n",
       "\n",
       "    .dataframe tbody tr th {\n",
       "        vertical-align: top;\n",
       "    }\n",
       "\n",
       "    .dataframe thead th {\n",
       "        text-align: right;\n",
       "    }\n",
       "</style>\n",
       "<table border=\"1\" class=\"dataframe\">\n",
       "  <thead>\n",
       "    <tr style=\"text-align: right;\">\n",
       "      <th></th>\n",
       "      <th>Draw 0</th>\n",
       "      <th>Draw 1</th>\n",
       "      <th>Draw 2</th>\n",
       "      <th>Draw 3</th>\n",
       "      <th>Draw 4</th>\n",
       "      <th>Draw 5</th>\n",
       "      <th>Draw 6</th>\n",
       "      <th>Draw 7</th>\n",
       "      <th>Draw 8</th>\n",
       "      <th>Draw 9</th>\n",
       "      <th>Draw 10</th>\n",
       "    </tr>\n",
       "  </thead>\n",
       "  <tbody>\n",
       "    <tr>\n",
       "      <th>0</th>\n",
       "      <td>0.473037</td>\n",
       "      <td>0.602893</td>\n",
       "      <td>0.710774</td>\n",
       "      <td>0.79548</td>\n",
       "      <td>0.859111</td>\n",
       "      <td>0.905208</td>\n",
       "      <td>0.937587</td>\n",
       "      <td>0.959726</td>\n",
       "      <td>0.974501</td>\n",
       "      <td>0.984145</td>\n",
       "      <td>0.990313</td>\n",
       "    </tr>\n",
       "  </tbody>\n",
       "</table>\n",
       "</div>"
      ],
      "text/plain": [
       "     Draw 0    Draw 1    Draw 2   Draw 3    Draw 4    Draw 5    Draw 6  \\\n",
       "0  0.473037  0.602893  0.710774  0.79548  0.859111  0.905208  0.937587   \n",
       "\n",
       "     Draw 7    Draw 8    Draw 9   Draw 10  \n",
       "0  0.959726  0.974501  0.984145  0.990313  "
      ]
     },
     "execution_count": 11,
     "metadata": {},
     "output_type": "execute_result"
    }
   ],
   "source": [
    "pbla_df = pab_df/pa_df\n",
    "pbla_df "
   ]
  },
  {
   "cell_type": "markdown",
   "metadata": {
    "heading_collapsed": true
   },
   "source": [
    "## Result: Simultaneous Probability Function and Conditional Probability Function for 2 events"
   ]
  },
  {
   "cell_type": "code",
   "execution_count": 12,
   "metadata": {
    "ExecuteTime": {
     "end_time": "2020-04-23T20:41:25.491653Z",
     "start_time": "2020-04-23T20:41:25.486650Z"
    },
    "hidden": true
   },
   "outputs": [],
   "source": [
    "def simultaneous_probability_2events(k1,n1,k2,n2,K,N,d):\n",
    "    return 1-hypergeo2events_cumulative(k1,n1,k2,n2,K+d,N)\n",
    "\n",
    "def conditional_probability_2events(k1,n1,k2,n2,K,N,d):\n",
    "    return simultaneous_probability(k1,n1,k2,n2,K,N,d)/hypergeo_cumulative(k1,n1,K+d,N)"
   ]
  },
  {
   "cell_type": "markdown",
   "metadata": {
    "heading_collapsed": true
   },
   "source": [
    "## Problem: Probabilities associated with drawing enough lands to cast a card in your opening hand with a given CMC "
   ]
  },
  {
   "cell_type": "code",
   "execution_count": 13,
   "metadata": {
    "ExecuteTime": {
     "end_time": "2020-04-23T20:41:25.502650Z",
     "start_time": "2020-04-23T20:41:25.494667Z"
    },
    "hidden": true
   },
   "outputs": [],
   "source": [
    "# number of cards in the deck\n",
    "N = 92\n",
    "\n",
    "# number of lands in hand\n",
    "l1 = 2\n",
    "\n",
    "# number of lands in the deck\n",
    "n = 35\n",
    "\n",
    "# initial number of cards drawn\n",
    "K = 7\n",
    "\n",
    "# CMC of the card, i.e. number of lands drawn\n",
    "k = 4\n",
    "\n",
    "# number of lands on bottom of library after mulligan\n",
    "l2 = 1"
   ]
  },
  {
   "cell_type": "code",
   "execution_count": 14,
   "metadata": {
    "ExecuteTime": {
     "end_time": "2020-04-23T20:41:25.519687Z",
     "start_time": "2020-04-23T20:41:25.504651Z"
    },
    "hidden": true
   },
   "outputs": [
    {
     "data": {
      "text/html": [
       "<div>\n",
       "<style scoped>\n",
       "    .dataframe tbody tr th:only-of-type {\n",
       "        vertical-align: middle;\n",
       "    }\n",
       "\n",
       "    .dataframe tbody tr th {\n",
       "        vertical-align: top;\n",
       "    }\n",
       "\n",
       "    .dataframe thead th {\n",
       "        text-align: right;\n",
       "    }\n",
       "</style>\n",
       "<table border=\"1\" class=\"dataframe\">\n",
       "  <thead>\n",
       "    <tr style=\"text-align: right;\">\n",
       "      <th></th>\n",
       "      <th>Draw 0</th>\n",
       "      <th>Draw 1</th>\n",
       "      <th>Draw 2</th>\n",
       "      <th>Draw 3</th>\n",
       "      <th>Draw 4</th>\n",
       "      <th>Draw 5</th>\n",
       "      <th>Draw 6</th>\n",
       "      <th>Draw 7</th>\n",
       "      <th>Draw 8</th>\n",
       "      <th>Draw 9</th>\n",
       "      <th>Draw 10</th>\n",
       "    </tr>\n",
       "  </thead>\n",
       "  <tbody>\n",
       "    <tr>\n",
       "      <th>0</th>\n",
       "      <td>0.0</td>\n",
       "      <td>0.0</td>\n",
       "      <td>0.11849</td>\n",
       "      <td>0.276477</td>\n",
       "      <td>0.433577</td>\n",
       "      <td>0.571634</td>\n",
       "      <td>0.684697</td>\n",
       "      <td>0.773045</td>\n",
       "      <td>0.839739</td>\n",
       "      <td>0.888738</td>\n",
       "      <td>0.923938</td>\n",
       "    </tr>\n",
       "  </tbody>\n",
       "</table>\n",
       "</div>"
      ],
      "text/plain": [
       "   Draw 0  Draw 1   Draw 2    Draw 3    Draw 4    Draw 5    Draw 6    Draw 7  \\\n",
       "0     0.0     0.0  0.11849  0.276477  0.433577  0.571634  0.684697  0.773045   \n",
       "\n",
       "     Draw 8    Draw 9   Draw 10  \n",
       "0  0.839739  0.888738  0.923938  "
      ]
     },
     "execution_count": 14,
     "metadata": {},
     "output_type": "execute_result"
    }
   ],
   "source": [
    "data = {f'Draw {i}' : [1-hypergeo_cumulative(k-l1-1,n-l1-l2,i,N)] for i in range(0,11)}\n",
    "p_df = pd.DataFrame(data = data)\n",
    "p_df"
   ]
  },
  {
   "cell_type": "markdown",
   "metadata": {
    "ExecuteTime": {
     "end_time": "2020-04-09T19:26:06.809325Z",
     "start_time": "2020-04-09T19:26:06.806286Z"
    }
   },
   "source": [
    "## Problem: Probabilities associated with A = drawing drawing at least one of a card with a given CMC in a game and B = drawing enough basic lands and talismans to cast the card"
   ]
  },
  {
   "cell_type": "code",
   "execution_count": 15,
   "metadata": {
    "ExecuteTime": {
     "end_time": "2020-04-23T20:41:25.525706Z",
     "start_time": "2020-04-23T20:41:25.521652Z"
    }
   },
   "outputs": [],
   "source": [
    "# number of cards in the deck\n",
    "N = 99\n",
    "\n",
    "# number of the given card in the deck\n",
    "n1 = 1\n",
    "\n",
    "# number of mana producing lands in the deck\n",
    "n2 = 40\n",
    "\n",
    "# number of rampant growths\n",
    "n3 = 1\n",
    "\n",
    "# initial number of cards drawn\n",
    "K = 7\n",
    "\n",
    "# CMC of the card, i.e. amount of mana the manabase needs to produce\n",
    "k = 3"
   ]
  },
  {
   "cell_type": "markdown",
   "metadata": {
    "heading_collapsed": true
   },
   "source": [
    "### P(A) over a number of draws"
   ]
  },
  {
   "cell_type": "code",
   "execution_count": 16,
   "metadata": {
    "ExecuteTime": {
     "end_time": "2020-04-23T20:41:25.545685Z",
     "start_time": "2020-04-23T20:41:25.528652Z"
    },
    "hidden": true
   },
   "outputs": [
    {
     "data": {
      "text/html": [
       "<div>\n",
       "<style scoped>\n",
       "    .dataframe tbody tr th:only-of-type {\n",
       "        vertical-align: middle;\n",
       "    }\n",
       "\n",
       "    .dataframe tbody tr th {\n",
       "        vertical-align: top;\n",
       "    }\n",
       "\n",
       "    .dataframe thead th {\n",
       "        text-align: right;\n",
       "    }\n",
       "</style>\n",
       "<table border=\"1\" class=\"dataframe\">\n",
       "  <thead>\n",
       "    <tr style=\"text-align: right;\">\n",
       "      <th></th>\n",
       "      <th>Draw 0</th>\n",
       "      <th>Draw 1</th>\n",
       "      <th>Draw 2</th>\n",
       "      <th>Draw 3</th>\n",
       "      <th>Draw 4</th>\n",
       "      <th>Draw 5</th>\n",
       "      <th>Draw 6</th>\n",
       "      <th>Draw 7</th>\n",
       "      <th>Draw 8</th>\n",
       "      <th>Draw 9</th>\n",
       "      <th>Draw 10</th>\n",
       "    </tr>\n",
       "  </thead>\n",
       "  <tbody>\n",
       "    <tr>\n",
       "      <th>0</th>\n",
       "      <td>0.070707</td>\n",
       "      <td>0.080808</td>\n",
       "      <td>0.090909</td>\n",
       "      <td>0.10101</td>\n",
       "      <td>0.111111</td>\n",
       "      <td>0.121212</td>\n",
       "      <td>0.131313</td>\n",
       "      <td>0.141414</td>\n",
       "      <td>0.151515</td>\n",
       "      <td>0.161616</td>\n",
       "      <td>0.171717</td>\n",
       "    </tr>\n",
       "  </tbody>\n",
       "</table>\n",
       "</div>"
      ],
      "text/plain": [
       "     Draw 0    Draw 1    Draw 2   Draw 3    Draw 4    Draw 5    Draw 6  \\\n",
       "0  0.070707  0.080808  0.090909  0.10101  0.111111  0.121212  0.131313   \n",
       "\n",
       "     Draw 7    Draw 8    Draw 9   Draw 10  \n",
       "0  0.141414  0.151515  0.161616  0.171717  "
      ]
     },
     "execution_count": 16,
     "metadata": {},
     "output_type": "execute_result"
    }
   ],
   "source": [
    "data = {f'Draw {i}' : [1-hypergeo_cumulative(0,n1,K+i,N)] for i in range(0,11)}\n",
    "pa_df2 = pd.DataFrame(data = data)\n",
    "pa_df2"
   ]
  },
  {
   "cell_type": "markdown",
   "metadata": {
    "heading_collapsed": true
   },
   "source": [
    "### P(B) over a number of draws"
   ]
  },
  {
   "cell_type": "code",
   "execution_count": 17,
   "metadata": {
    "ExecuteTime": {
     "end_time": "2020-04-23T20:41:25.556685Z",
     "start_time": "2020-04-23T20:41:25.547651Z"
    },
    "hidden": true
   },
   "outputs": [],
   "source": [
    "def compute_possible_draws(k,ns,K,N):\n",
    "    possible_draws = {}\n",
    "    for j in range(k,K+1):\n",
    "        draws = [0 for _ in ns]\n",
    "        draws = distribute_k_over_n(j, draws)\n",
    "        for draw in draws:\n",
    "            possible_draws[str(draw)] = draw\n",
    "    \n",
    "    return [list(zip(ns,list(l))) for _, l in possible_draws.items()]\n",
    "    #return hypergeo_cumulative(k2-1,n2,K+i,N) # need to employ some sort of integer partitioner\n",
    "\n",
    "def talisman_prob(k, K, n2, n3, N):    \n",
    "    possible_draws = compute_possible_draws(k,[n2,n3],K,N)\n",
    "\n",
    "    total = 0\n",
    "\n",
    "    for draw in possible_draws:\n",
    "        k2 = draw[0][1]\n",
    "        k3 = draw[1][1]\n",
    "\n",
    "        p = hypergeo2events(k2,n2,k3,n3,K,N)\n",
    "        \n",
    "        m = 1 if k2 >= 2 else 0\n",
    "        \n",
    "        total += m * p\n",
    "        \n",
    "    return total"
   ]
  },
  {
   "cell_type": "code",
   "execution_count": 18,
   "metadata": {
    "ExecuteTime": {
     "end_time": "2020-04-23T20:41:26.644674Z",
     "start_time": "2020-04-23T20:41:25.559659Z"
    },
    "hidden": true
   },
   "outputs": [
    {
     "data": {
      "text/html": [
       "<div>\n",
       "<style scoped>\n",
       "    .dataframe tbody tr th:only-of-type {\n",
       "        vertical-align: middle;\n",
       "    }\n",
       "\n",
       "    .dataframe tbody tr th {\n",
       "        vertical-align: top;\n",
       "    }\n",
       "\n",
       "    .dataframe thead th {\n",
       "        text-align: right;\n",
       "    }\n",
       "</style>\n",
       "<table border=\"1\" class=\"dataframe\">\n",
       "  <thead>\n",
       "    <tr style=\"text-align: right;\">\n",
       "      <th></th>\n",
       "      <th>Draw 0</th>\n",
       "      <th>Draw 1</th>\n",
       "      <th>Draw 2</th>\n",
       "      <th>Draw 3</th>\n",
       "      <th>Draw 4</th>\n",
       "      <th>Draw 5</th>\n",
       "      <th>Draw 6</th>\n",
       "      <th>Draw 7</th>\n",
       "      <th>Draw 8</th>\n",
       "      <th>Draw 9</th>\n",
       "      <th>Draw 10</th>\n",
       "    </tr>\n",
       "  </thead>\n",
       "  <tbody>\n",
       "    <tr>\n",
       "      <th>0</th>\n",
       "      <td>0.615941</td>\n",
       "      <td>0.722932</td>\n",
       "      <td>0.806017</td>\n",
       "      <td>0.867737</td>\n",
       "      <td>0.911947</td>\n",
       "      <td>0.942648</td>\n",
       "      <td>0.963398</td>\n",
       "      <td>0.977085</td>\n",
       "      <td>0.985914</td>\n",
       "      <td>0.991493</td>\n",
       "      <td>0.99495</td>\n",
       "    </tr>\n",
       "  </tbody>\n",
       "</table>\n",
       "</div>"
      ],
      "text/plain": [
       "     Draw 0    Draw 1    Draw 2    Draw 3    Draw 4    Draw 5    Draw 6  \\\n",
       "0  0.615941  0.722932  0.806017  0.867737  0.911947  0.942648  0.963398   \n",
       "\n",
       "     Draw 7    Draw 8    Draw 9  Draw 10  \n",
       "0  0.977085  0.985914  0.991493  0.99495  "
      ]
     },
     "execution_count": 18,
     "metadata": {},
     "output_type": "execute_result"
    }
   ],
   "source": [
    "data = {f'Draw {i}' : [talisman_prob(k, K + i, n2, n3, N)] for i in range(0,11)}\n",
    "pb_df2 = pd.DataFrame(data = data)\n",
    "pb_df2"
   ]
  },
  {
   "cell_type": "markdown",
   "metadata": {
    "heading_collapsed": true
   },
   "source": [
    "### P(A and B) over a number of draws"
   ]
  },
  {
   "cell_type": "code",
   "execution_count": 19,
   "metadata": {
    "ExecuteTime": {
     "end_time": "2020-04-23T20:41:26.651676Z",
     "start_time": "2020-04-23T20:41:26.645677Z"
    },
    "hidden": true
   },
   "outputs": [],
   "source": [
    "def talisman_prob(k, K, n1, n2, n3, N, debug=False):    \n",
    "    possible_draws = compute_possible_draws(k,[n2,n3],K,N)\n",
    "\n",
    "    total = 0\n",
    "\n",
    "    for draw in possible_draws:\n",
    "        for k1 in range(1, n1 + 1):\n",
    "            k2 = draw[0][1]\n",
    "            k3 = draw[1][1]\n",
    "            ks = [k1, k2, k3]\n",
    "            ns = [n1, n2, n3]\n",
    "\n",
    "            p = hypergeoNevents(ks,ns,K,N)\n",
    "            \n",
    "            m = 1 if k2 >= 2 else 0\n",
    "\n",
    "            total += m * p\n",
    "            \n",
    "            if debug:\n",
    "                print(draw, p, total)\n",
    "        \n",
    "    return total"
   ]
  },
  {
   "cell_type": "code",
   "execution_count": 21,
   "metadata": {
    "ExecuteTime": {
     "end_time": "2020-04-23T20:41:27.797726Z",
     "start_time": "2020-04-23T20:41:26.681673Z"
    },
    "hidden": true
   },
   "outputs": [
    {
     "data": {
      "text/html": [
       "<div>\n",
       "<style scoped>\n",
       "    .dataframe tbody tr th:only-of-type {\n",
       "        vertical-align: middle;\n",
       "    }\n",
       "\n",
       "    .dataframe tbody tr th {\n",
       "        vertical-align: top;\n",
       "    }\n",
       "\n",
       "    .dataframe thead th {\n",
       "        text-align: right;\n",
       "    }\n",
       "</style>\n",
       "<table border=\"1\" class=\"dataframe\">\n",
       "  <thead>\n",
       "    <tr style=\"text-align: right;\">\n",
       "      <th></th>\n",
       "      <th>Draw 0</th>\n",
       "      <th>Draw 1</th>\n",
       "      <th>Draw 2</th>\n",
       "      <th>Draw 3</th>\n",
       "      <th>Draw 4</th>\n",
       "      <th>Draw 5</th>\n",
       "      <th>Draw 6</th>\n",
       "      <th>Draw 7</th>\n",
       "      <th>Draw 8</th>\n",
       "      <th>Draw 9</th>\n",
       "      <th>Draw 10</th>\n",
       "    </tr>\n",
       "  </thead>\n",
       "  <tbody>\n",
       "    <tr>\n",
       "      <th>0</th>\n",
       "      <td>0.03498</td>\n",
       "      <td>0.050518</td>\n",
       "      <td>0.066502</td>\n",
       "      <td>0.082168</td>\n",
       "      <td>0.097093</td>\n",
       "      <td>0.111116</td>\n",
       "      <td>0.124252</td>\n",
       "      <td>0.136605</td>\n",
       "      <td>0.14832</td>\n",
       "      <td>0.159542</td>\n",
       "      <td>0.1704</td>\n",
       "    </tr>\n",
       "  </tbody>\n",
       "</table>\n",
       "</div>"
      ],
      "text/plain": [
       "    Draw 0    Draw 1    Draw 2    Draw 3    Draw 4    Draw 5    Draw 6  \\\n",
       "0  0.03498  0.050518  0.066502  0.082168  0.097093  0.111116  0.124252   \n",
       "\n",
       "     Draw 7   Draw 8    Draw 9  Draw 10  \n",
       "0  0.136605  0.14832  0.159542   0.1704  "
      ]
     },
     "execution_count": 21,
     "metadata": {},
     "output_type": "execute_result"
    }
   ],
   "source": [
    "data = {f'Draw {i}' : [talisman_prob(k, K + i, n1, n2, n3, N)] for i in range(0,11)}\n",
    "pab_df2 = pd.DataFrame(data = data)\n",
    "pab_df2"
   ]
  },
  {
   "cell_type": "markdown",
   "metadata": {
    "heading_collapsed": true
   },
   "source": [
    "### P(A | B) over a number of draws"
   ]
  },
  {
   "cell_type": "code",
   "execution_count": 22,
   "metadata": {
    "ExecuteTime": {
     "end_time": "2020-04-23T20:41:27.810700Z",
     "start_time": "2020-04-23T20:41:27.798727Z"
    },
    "hidden": true
   },
   "outputs": [
    {
     "data": {
      "text/html": [
       "<div>\n",
       "<style scoped>\n",
       "    .dataframe tbody tr th:only-of-type {\n",
       "        vertical-align: middle;\n",
       "    }\n",
       "\n",
       "    .dataframe tbody tr th {\n",
       "        vertical-align: top;\n",
       "    }\n",
       "\n",
       "    .dataframe thead th {\n",
       "        text-align: right;\n",
       "    }\n",
       "</style>\n",
       "<table border=\"1\" class=\"dataframe\">\n",
       "  <thead>\n",
       "    <tr style=\"text-align: right;\">\n",
       "      <th></th>\n",
       "      <th>Draw 0</th>\n",
       "      <th>Draw 1</th>\n",
       "      <th>Draw 2</th>\n",
       "      <th>Draw 3</th>\n",
       "      <th>Draw 4</th>\n",
       "      <th>Draw 5</th>\n",
       "      <th>Draw 6</th>\n",
       "      <th>Draw 7</th>\n",
       "      <th>Draw 8</th>\n",
       "      <th>Draw 9</th>\n",
       "      <th>Draw 10</th>\n",
       "    </tr>\n",
       "  </thead>\n",
       "  <tbody>\n",
       "    <tr>\n",
       "      <th>0</th>\n",
       "      <td>0.056791</td>\n",
       "      <td>0.06988</td>\n",
       "      <td>0.082508</td>\n",
       "      <td>0.094693</td>\n",
       "      <td>0.106468</td>\n",
       "      <td>0.117877</td>\n",
       "      <td>0.128973</td>\n",
       "      <td>0.139809</td>\n",
       "      <td>0.150439</td>\n",
       "      <td>0.160911</td>\n",
       "      <td>0.171265</td>\n",
       "    </tr>\n",
       "  </tbody>\n",
       "</table>\n",
       "</div>"
      ],
      "text/plain": [
       "     Draw 0   Draw 1    Draw 2    Draw 3    Draw 4    Draw 5    Draw 6  \\\n",
       "0  0.056791  0.06988  0.082508  0.094693  0.106468  0.117877  0.128973   \n",
       "\n",
       "     Draw 7    Draw 8    Draw 9   Draw 10  \n",
       "0  0.139809  0.150439  0.160911  0.171265  "
      ]
     },
     "execution_count": 22,
     "metadata": {},
     "output_type": "execute_result"
    }
   ],
   "source": [
    "palb_df2 = pab_df2/pb_df2\n",
    "palb_df2"
   ]
  },
  {
   "cell_type": "markdown",
   "metadata": {
    "ExecuteTime": {
     "end_time": "2020-04-09T18:53:47.959712Z",
     "start_time": "2020-04-09T18:53:47.955715Z"
    },
    "heading_collapsed": true
   },
   "source": [
    "### P(B | A) over a number of draws"
   ]
  },
  {
   "cell_type": "code",
   "execution_count": 23,
   "metadata": {
    "ExecuteTime": {
     "end_time": "2020-04-23T20:41:27.831690Z",
     "start_time": "2020-04-23T20:41:27.814693Z"
    },
    "hidden": true
   },
   "outputs": [
    {
     "data": {
      "text/html": [
       "<div>\n",
       "<style scoped>\n",
       "    .dataframe tbody tr th:only-of-type {\n",
       "        vertical-align: middle;\n",
       "    }\n",
       "\n",
       "    .dataframe tbody tr th {\n",
       "        vertical-align: top;\n",
       "    }\n",
       "\n",
       "    .dataframe thead th {\n",
       "        text-align: right;\n",
       "    }\n",
       "</style>\n",
       "<table border=\"1\" class=\"dataframe\">\n",
       "  <thead>\n",
       "    <tr style=\"text-align: right;\">\n",
       "      <th></th>\n",
       "      <th>Draw 0</th>\n",
       "      <th>Draw 1</th>\n",
       "      <th>Draw 2</th>\n",
       "      <th>Draw 3</th>\n",
       "      <th>Draw 4</th>\n",
       "      <th>Draw 5</th>\n",
       "      <th>Draw 6</th>\n",
       "      <th>Draw 7</th>\n",
       "      <th>Draw 8</th>\n",
       "      <th>Draw 9</th>\n",
       "      <th>Draw 10</th>\n",
       "    </tr>\n",
       "  </thead>\n",
       "  <tbody>\n",
       "    <tr>\n",
       "      <th>0</th>\n",
       "      <td>0.494719</td>\n",
       "      <td>0.625164</td>\n",
       "      <td>0.731527</td>\n",
       "      <td>0.813466</td>\n",
       "      <td>0.873835</td>\n",
       "      <td>0.916711</td>\n",
       "      <td>0.946226</td>\n",
       "      <td>0.965994</td>\n",
       "      <td>0.978912</td>\n",
       "      <td>0.987165</td>\n",
       "      <td>0.992328</td>\n",
       "    </tr>\n",
       "  </tbody>\n",
       "</table>\n",
       "</div>"
      ],
      "text/plain": [
       "     Draw 0    Draw 1    Draw 2    Draw 3    Draw 4    Draw 5    Draw 6  \\\n",
       "0  0.494719  0.625164  0.731527  0.813466  0.873835  0.916711  0.946226   \n",
       "\n",
       "     Draw 7    Draw 8    Draw 9   Draw 10  \n",
       "0  0.965994  0.978912  0.987165  0.992328  "
      ]
     },
     "execution_count": 23,
     "metadata": {},
     "output_type": "execute_result"
    }
   ],
   "source": [
    "pbla_df2 = pab_df2/pa_df2\n",
    "pbla_df2"
   ]
  },
  {
   "cell_type": "markdown",
   "metadata": {},
   "source": [
    "## Scratchwork"
   ]
  },
  {
   "cell_type": "code",
   "execution_count": 23,
   "metadata": {
    "ExecuteTime": {
     "end_time": "2020-04-24T12:59:09.332540Z",
     "start_time": "2020-04-24T12:59:09.314545Z"
    }
   },
   "outputs": [],
   "source": [
    "from utils import distribute_k_over_n\n",
    "\n",
    "k = 3\n",
    "n1 = 2\n",
    "n2 = 40\n",
    "n3 = 1\n",
    "bl = 1\n",
    "K = 7\n",
    "N = 99\n",
    "\n",
    "def compute_possible_draws(k,ns,K,N):\n",
    "    possible_draws = {}\n",
    "    for j in range(k,K+1):\n",
    "        draws = [0 for _ in ns]\n",
    "        draws = distribute_k_over_n(j, draws)\n",
    "        for draw in draws:\n",
    "            possible_draws[str(draw)] = draw\n",
    "    \n",
    "    return [list(zip(ns,list(l))) for _, l in possible_draws.items()]\n",
    "\n",
    "possible_draws = compute_possible_draws(k, [n2-bl, n3, bl], K, N)"
   ]
  },
  {
   "cell_type": "code",
   "execution_count": 24,
   "metadata": {
    "ExecuteTime": {
     "end_time": "2020-04-24T12:59:11.479579Z",
     "start_time": "2020-04-24T12:59:11.420593Z"
    }
   },
   "outputs": [
    {
     "name": "stdout",
     "output_type": "stream",
     "text": [
      "[(39, 3), (1, 0), (1, 0)] 0.03403406236511969\n",
      "[(39, 3), (1, 0), (1, 0)] 0.03497945298637301\n",
      "[(39, 2), (1, 1), (1, 0)] 0.03773897155651785\n",
      "[(39, 2), (1, 1), (1, 0)] 0.037815624850132984\n",
      "[(39, 2), (1, 0), (1, 1)] 0.037815624850132984\n",
      "[(39, 2), (1, 0), (1, 1)] 0.037815624850132984\n",
      "[(39, 1), (1, 2), (1, 0)] 0.037815624850132984\n",
      "[(39, 1), (1, 2), (1, 0)] 0.037815624850132984\n",
      "[(39, 1), (1, 1), (1, 1)] 0.037815624850132984\n",
      "[(39, 1), (1, 1), (1, 1)] 0.037815624850132984\n",
      "[(39, 1), (1, 0), (1, 2)] 0.037815624850132984\n",
      "[(39, 1), (1, 0), (1, 2)] 0.037815624850132984\n",
      "[(39, 0), (1, 3), (1, 0)] 0.037815624850132984\n",
      "[(39, 0), (1, 3), (1, 0)] 0.037815624850132984\n",
      "[(39, 0), (1, 2), (1, 1)] 0.037815624850132984\n",
      "[(39, 0), (1, 2), (1, 1)] 0.037815624850132984\n",
      "[(39, 0), (1, 1), (1, 2)] 0.037815624850132984\n",
      "[(39, 0), (1, 1), (1, 2)] 0.037815624850132984\n",
      "[(39, 0), (1, 0), (1, 3)] 0.037815624850132984\n",
      "[(39, 0), (1, 0), (1, 3)] 0.037815624850132984\n",
      "[(39, 4), (1, 0), (1, 0)] 0.05483265603269283\n",
      "[(39, 4), (1, 0), (1, 0)] 0.055142056599648465\n",
      "[(39, 3), (1, 1), (1, 0)] 0.05703283784215511\n",
      "[(39, 3), (1, 1), (1, 0)] 0.05706721568292796\n",
      "[(39, 3), (1, 0), (1, 1)] 0.05706721568292796\n",
      "[(39, 3), (1, 0), (1, 1)] 0.05706721568292796\n",
      "[(39, 2), (1, 2), (1, 0)] 0.05706721568292796\n",
      "[(39, 2), (1, 2), (1, 0)] 0.05706721568292796\n",
      "[(39, 2), (1, 1), (1, 1)] 0.05706721568292796\n",
      "[(39, 2), (1, 1), (1, 1)] 0.05706721568292796\n",
      "[(39, 2), (1, 0), (1, 2)] 0.05706721568292796\n",
      "[(39, 2), (1, 0), (1, 2)] 0.05706721568292796\n",
      "[(39, 1), (1, 3), (1, 0)] 0.05706721568292796\n",
      "[(39, 1), (1, 3), (1, 0)] 0.05706721568292796\n",
      "[(39, 1), (1, 2), (1, 1)] 0.05706721568292796\n",
      "[(39, 1), (1, 2), (1, 1)] 0.05706721568292796\n",
      "[(39, 1), (1, 1), (1, 2)] 0.05706721568292796\n",
      "[(39, 1), (1, 1), (1, 2)] 0.05706721568292796\n",
      "[(39, 1), (1, 0), (1, 3)] 0.05706721568292796\n",
      "[(39, 1), (1, 0), (1, 3)] 0.05706721568292796\n",
      "[(39, 0), (1, 4), (1, 0)] 0.05706721568292796\n",
      "[(39, 0), (1, 4), (1, 0)] 0.05706721568292796\n",
      "[(39, 0), (1, 3), (1, 1)] 0.05706721568292796\n",
      "[(39, 0), (1, 3), (1, 1)] 0.05706721568292796\n",
      "[(39, 0), (1, 2), (1, 2)] 0.05706721568292796\n",
      "[(39, 0), (1, 2), (1, 2)] 0.05706721568292796\n",
      "[(39, 0), (1, 1), (1, 3)] 0.05706721568292796\n",
      "[(39, 0), (1, 1), (1, 3)] 0.05706721568292796\n",
      "[(39, 0), (1, 0), (1, 4)] 0.05706721568292796\n",
      "[(39, 0), (1, 0), (1, 4)] 0.05706721568292796\n",
      "[(39, 5), (1, 0), (1, 0)] 0.06139882362030683\n",
      "[(39, 5), (1, 0), (1, 0)] 0.06143749869117628\n",
      "[(39, 4), (1, 1), (1, 0)] 0.06205629982508755\n",
      "[(39, 4), (1, 1), (1, 0)] 0.062061824835211755\n",
      "[(39, 4), (1, 0), (1, 1)] 0.062061824835211755\n",
      "[(39, 4), (1, 0), (1, 1)] 0.062061824835211755\n",
      "[(39, 3), (1, 2), (1, 0)] 0.062061824835211755\n",
      "[(39, 3), (1, 2), (1, 0)] 0.062061824835211755\n",
      "[(39, 3), (1, 1), (1, 1)] 0.062061824835211755\n",
      "[(39, 3), (1, 1), (1, 1)] 0.062061824835211755\n",
      "[(39, 3), (1, 0), (1, 2)] 0.062061824835211755\n",
      "[(39, 3), (1, 0), (1, 2)] 0.062061824835211755\n",
      "[(39, 2), (1, 3), (1, 0)] 0.062061824835211755\n",
      "[(39, 2), (1, 3), (1, 0)] 0.062061824835211755\n",
      "[(39, 2), (1, 2), (1, 1)] 0.062061824835211755\n",
      "[(39, 2), (1, 2), (1, 1)] 0.062061824835211755\n",
      "[(39, 2), (1, 1), (1, 2)] 0.062061824835211755\n",
      "[(39, 2), (1, 1), (1, 2)] 0.062061824835211755\n",
      "[(39, 2), (1, 0), (1, 3)] 0.062061824835211755\n",
      "[(39, 2), (1, 0), (1, 3)] 0.062061824835211755\n",
      "[(39, 1), (1, 4), (1, 0)] 0.062061824835211755\n",
      "[(39, 1), (1, 4), (1, 0)] 0.062061824835211755\n",
      "[(39, 1), (1, 3), (1, 1)] 0.062061824835211755\n",
      "[(39, 1), (1, 3), (1, 1)] 0.062061824835211755\n",
      "[(39, 1), (1, 2), (1, 2)] 0.062061824835211755\n",
      "[(39, 1), (1, 2), (1, 2)] 0.062061824835211755\n",
      "[(39, 1), (1, 1), (1, 3)] 0.062061824835211755\n",
      "[(39, 1), (1, 1), (1, 3)] 0.062061824835211755\n",
      "[(39, 1), (1, 0), (1, 4)] 0.062061824835211755\n",
      "[(39, 1), (1, 0), (1, 4)] 0.062061824835211755\n",
      "[(39, 0), (1, 5), (1, 0)] 0.062061824835211755\n",
      "[(39, 0), (1, 5), (1, 0)] 0.062061824835211755\n",
      "[(39, 0), (1, 4), (1, 1)] 0.062061824835211755\n",
      "[(39, 0), (1, 4), (1, 1)] 0.062061824835211755\n",
      "[(39, 0), (1, 3), (1, 2)] 0.062061824835211755\n",
      "[(39, 0), (1, 3), (1, 2)] 0.062061824835211755\n",
      "[(39, 0), (1, 2), (1, 3)] 0.062061824835211755\n",
      "[(39, 0), (1, 2), (1, 3)] 0.062061824835211755\n",
      "[(39, 0), (1, 1), (1, 4)] 0.062061824835211755\n",
      "[(39, 0), (1, 1), (1, 4)] 0.062061824835211755\n",
      "[(39, 0), (1, 0), (1, 5)] 0.062061824835211755\n",
      "[(39, 0), (1, 0), (1, 5)] 0.062061824835211755\n",
      "[(39, 6), (1, 0), (1, 0)] 0.06250014230506556\n",
      "[(39, 6), (1, 0), (1, 0)] 0.06250014230506556\n",
      "[(39, 5), (1, 1), (1, 0)] 0.06257749244680447\n",
      "[(39, 5), (1, 1), (1, 0)] 0.06257749244680447\n",
      "[(39, 5), (1, 0), (1, 1)] 0.06257749244680447\n",
      "[(39, 5), (1, 0), (1, 1)] 0.06257749244680447\n",
      "[(39, 4), (1, 2), (1, 0)] 0.06257749244680447\n",
      "[(39, 4), (1, 2), (1, 0)] 0.06257749244680447\n",
      "[(39, 4), (1, 1), (1, 1)] 0.06257749244680447\n",
      "[(39, 4), (1, 1), (1, 1)] 0.06257749244680447\n",
      "[(39, 4), (1, 0), (1, 2)] 0.06257749244680447\n",
      "[(39, 4), (1, 0), (1, 2)] 0.06257749244680447\n",
      "[(39, 3), (1, 3), (1, 0)] 0.06257749244680447\n",
      "[(39, 3), (1, 3), (1, 0)] 0.06257749244680447\n",
      "[(39, 3), (1, 2), (1, 1)] 0.06257749244680447\n",
      "[(39, 3), (1, 2), (1, 1)] 0.06257749244680447\n",
      "[(39, 3), (1, 1), (1, 2)] 0.06257749244680447\n",
      "[(39, 3), (1, 1), (1, 2)] 0.06257749244680447\n",
      "[(39, 3), (1, 0), (1, 3)] 0.06257749244680447\n",
      "[(39, 3), (1, 0), (1, 3)] 0.06257749244680447\n",
      "[(39, 2), (1, 4), (1, 0)] 0.06257749244680447\n",
      "[(39, 2), (1, 4), (1, 0)] 0.06257749244680447\n",
      "[(39, 2), (1, 3), (1, 1)] 0.06257749244680447\n",
      "[(39, 2), (1, 3), (1, 1)] 0.06257749244680447\n",
      "[(39, 2), (1, 2), (1, 2)] 0.06257749244680447\n",
      "[(39, 2), (1, 2), (1, 2)] 0.06257749244680447\n",
      "[(39, 2), (1, 1), (1, 3)] 0.06257749244680447\n",
      "[(39, 2), (1, 1), (1, 3)] 0.06257749244680447\n",
      "[(39, 2), (1, 0), (1, 4)] 0.06257749244680447\n",
      "[(39, 2), (1, 0), (1, 4)] 0.06257749244680447\n",
      "[(39, 1), (1, 5), (1, 0)] 0.06257749244680447\n",
      "[(39, 1), (1, 5), (1, 0)] 0.06257749244680447\n",
      "[(39, 1), (1, 4), (1, 1)] 0.06257749244680447\n",
      "[(39, 1), (1, 4), (1, 1)] 0.06257749244680447\n",
      "[(39, 1), (1, 3), (1, 2)] 0.06257749244680447\n",
      "[(39, 1), (1, 3), (1, 2)] 0.06257749244680447\n",
      "[(39, 1), (1, 2), (1, 3)] 0.06257749244680447\n",
      "[(39, 1), (1, 2), (1, 3)] 0.06257749244680447\n",
      "[(39, 1), (1, 1), (1, 4)] 0.06257749244680447\n",
      "[(39, 1), (1, 1), (1, 4)] 0.06257749244680447\n",
      "[(39, 1), (1, 0), (1, 5)] 0.06257749244680447\n",
      "[(39, 1), (1, 0), (1, 5)] 0.06257749244680447\n",
      "[(39, 0), (1, 6), (1, 0)] 0.06257749244680447\n",
      "[(39, 0), (1, 6), (1, 0)] 0.06257749244680447\n",
      "[(39, 0), (1, 5), (1, 1)] 0.06257749244680447\n",
      "[(39, 0), (1, 5), (1, 1)] 0.06257749244680447\n",
      "[(39, 0), (1, 4), (1, 2)] 0.06257749244680447\n",
      "[(39, 0), (1, 4), (1, 2)] 0.06257749244680447\n",
      "[(39, 0), (1, 3), (1, 3)] 0.06257749244680447\n",
      "[(39, 0), (1, 3), (1, 3)] 0.06257749244680447\n",
      "[(39, 0), (1, 2), (1, 4)] 0.06257749244680447\n",
      "[(39, 0), (1, 2), (1, 4)] 0.06257749244680447\n",
      "[(39, 0), (1, 1), (1, 5)] 0.06257749244680447\n",
      "[(39, 0), (1, 1), (1, 5)] 0.06257749244680447\n",
      "[(39, 0), (1, 0), (1, 6)] 0.06257749244680447\n",
      "[(39, 0), (1, 0), (1, 6)] 0.06257749244680447\n",
      "[(39, 7), (1, 0), (1, 0)] 0.06257749244680447\n",
      "[(39, 7), (1, 0), (1, 0)] 0.06257749244680447\n",
      "[(39, 6), (1, 1), (1, 0)] 0.06257749244680447\n",
      "[(39, 6), (1, 1), (1, 0)] 0.06257749244680447\n",
      "[(39, 6), (1, 0), (1, 1)] 0.06257749244680447\n",
      "[(39, 6), (1, 0), (1, 1)] 0.06257749244680447\n",
      "[(39, 5), (1, 2), (1, 0)] 0.06257749244680447\n",
      "[(39, 5), (1, 2), (1, 0)] 0.06257749244680447\n",
      "[(39, 5), (1, 1), (1, 1)] 0.06257749244680447\n",
      "[(39, 5), (1, 1), (1, 1)] 0.06257749244680447\n",
      "[(39, 5), (1, 0), (1, 2)] 0.06257749244680447\n",
      "[(39, 5), (1, 0), (1, 2)] 0.06257749244680447\n",
      "[(39, 4), (1, 3), (1, 0)] 0.06257749244680447\n",
      "[(39, 4), (1, 3), (1, 0)] 0.06257749244680447\n",
      "[(39, 4), (1, 2), (1, 1)] 0.06257749244680447\n",
      "[(39, 4), (1, 2), (1, 1)] 0.06257749244680447\n",
      "[(39, 4), (1, 1), (1, 2)] 0.06257749244680447\n",
      "[(39, 4), (1, 1), (1, 2)] 0.06257749244680447\n",
      "[(39, 4), (1, 0), (1, 3)] 0.06257749244680447\n",
      "[(39, 4), (1, 0), (1, 3)] 0.06257749244680447\n",
      "[(39, 3), (1, 4), (1, 0)] 0.06257749244680447\n",
      "[(39, 3), (1, 4), (1, 0)] 0.06257749244680447\n",
      "[(39, 3), (1, 3), (1, 1)] 0.06257749244680447\n",
      "[(39, 3), (1, 3), (1, 1)] 0.06257749244680447\n",
      "[(39, 3), (1, 2), (1, 2)] 0.06257749244680447\n",
      "[(39, 3), (1, 2), (1, 2)] 0.06257749244680447\n",
      "[(39, 3), (1, 1), (1, 3)] 0.06257749244680447\n",
      "[(39, 3), (1, 1), (1, 3)] 0.06257749244680447\n",
      "[(39, 3), (1, 0), (1, 4)] 0.06257749244680447\n",
      "[(39, 3), (1, 0), (1, 4)] 0.06257749244680447\n",
      "[(39, 2), (1, 5), (1, 0)] 0.06257749244680447\n",
      "[(39, 2), (1, 5), (1, 0)] 0.06257749244680447\n",
      "[(39, 2), (1, 4), (1, 1)] 0.06257749244680447\n",
      "[(39, 2), (1, 4), (1, 1)] 0.06257749244680447\n",
      "[(39, 2), (1, 3), (1, 2)] 0.06257749244680447\n",
      "[(39, 2), (1, 3), (1, 2)] 0.06257749244680447\n",
      "[(39, 2), (1, 2), (1, 3)] 0.06257749244680447\n",
      "[(39, 2), (1, 2), (1, 3)] 0.06257749244680447\n",
      "[(39, 2), (1, 1), (1, 4)] 0.06257749244680447\n",
      "[(39, 2), (1, 1), (1, 4)] 0.06257749244680447\n",
      "[(39, 2), (1, 0), (1, 5)] 0.06257749244680447\n",
      "[(39, 2), (1, 0), (1, 5)] 0.06257749244680447\n",
      "[(39, 1), (1, 6), (1, 0)] 0.06257749244680447\n",
      "[(39, 1), (1, 6), (1, 0)] 0.06257749244680447\n",
      "[(39, 1), (1, 5), (1, 1)] 0.06257749244680447\n",
      "[(39, 1), (1, 5), (1, 1)] 0.06257749244680447\n",
      "[(39, 1), (1, 4), (1, 2)] 0.06257749244680447\n",
      "[(39, 1), (1, 4), (1, 2)] 0.06257749244680447\n",
      "[(39, 1), (1, 3), (1, 3)] 0.06257749244680447\n",
      "[(39, 1), (1, 3), (1, 3)] 0.06257749244680447\n",
      "[(39, 1), (1, 2), (1, 4)] 0.06257749244680447\n",
      "[(39, 1), (1, 2), (1, 4)] 0.06257749244680447\n",
      "[(39, 1), (1, 1), (1, 5)] 0.06257749244680447\n",
      "[(39, 1), (1, 1), (1, 5)] 0.06257749244680447\n",
      "[(39, 1), (1, 0), (1, 6)] 0.06257749244680447\n",
      "[(39, 1), (1, 0), (1, 6)] 0.06257749244680447\n",
      "[(39, 0), (1, 7), (1, 0)] 0.06257749244680447\n",
      "[(39, 0), (1, 7), (1, 0)] 0.06257749244680447\n",
      "[(39, 0), (1, 6), (1, 1)] 0.06257749244680447\n",
      "[(39, 0), (1, 6), (1, 1)] 0.06257749244680447\n",
      "[(39, 0), (1, 5), (1, 2)] 0.06257749244680447\n",
      "[(39, 0), (1, 5), (1, 2)] 0.06257749244680447\n",
      "[(39, 0), (1, 4), (1, 3)] 0.06257749244680447\n",
      "[(39, 0), (1, 4), (1, 3)] 0.06257749244680447\n",
      "[(39, 0), (1, 3), (1, 4)] 0.06257749244680447\n",
      "[(39, 0), (1, 3), (1, 4)] 0.06257749244680447\n",
      "[(39, 0), (1, 2), (1, 5)] 0.06257749244680447\n",
      "[(39, 0), (1, 2), (1, 5)] 0.06257749244680447\n",
      "[(39, 0), (1, 1), (1, 6)] 0.06257749244680447\n",
      "[(39, 0), (1, 1), (1, 6)] 0.06257749244680447\n",
      "[(39, 0), (1, 0), (1, 7)] 0.06257749244680447\n",
      "[(39, 0), (1, 0), (1, 7)] 0.06257749244680447\n",
      "0.06257749244680447\n"
     ]
    }
   ],
   "source": [
    "total = 0\n",
    "for draw in possible_draws:\n",
    "    for k1 in range(1, n1 + 1):\n",
    "        k2 = draw[0][1]\n",
    "        k3 = draw[1][1]\n",
    "        kl = draw[2][1]\n",
    "        ks = [k1, k2, k3, kl]\n",
    "        ns = [n1, n2-bl, n3, bl]\n",
    "        p = hypergeoNevents(ks,ns,K,N)\n",
    "        m = 1 if k2 + kl >= 2 and kl < bl else 0\n",
    "        total += m * p\n",
    "        print(draw, total)\n",
    "print(total)"
   ]
  }
 ],
 "metadata": {
  "kernelspec": {
   "display_name": "Python 3",
   "language": "python",
   "name": "python3"
  },
  "language_info": {
   "codemirror_mode": {
    "name": "ipython",
    "version": 3
   },
   "file_extension": ".py",
   "mimetype": "text/x-python",
   "name": "python",
   "nbconvert_exporter": "python",
   "pygments_lexer": "ipython3",
   "version": "3.7.1"
  },
  "varInspector": {
   "cols": {
    "lenName": 16,
    "lenType": 16,
    "lenVar": 40
   },
   "kernels_config": {
    "python": {
     "delete_cmd_postfix": "",
     "delete_cmd_prefix": "del ",
     "library": "var_list.py",
     "varRefreshCmd": "print(var_dic_list())"
    },
    "r": {
     "delete_cmd_postfix": ") ",
     "delete_cmd_prefix": "rm(",
     "library": "var_list.r",
     "varRefreshCmd": "cat(var_dic_list()) "
    }
   },
   "types_to_exclude": [
    "module",
    "function",
    "builtin_function_or_method",
    "instance",
    "_Feature"
   ],
   "window_display": false
  }
 },
 "nbformat": 4,
 "nbformat_minor": 2
}
