{
 "cells": [
  {
   "cell_type": "markdown",
   "metadata": {
    "heading_collapsed": true
   },
   "source": [
    "## Preamble"
   ]
  },
  {
   "cell_type": "code",
   "execution_count": 1,
   "metadata": {
    "ExecuteTime": {
     "end_time": "2020-04-24T14:33:37.426661Z",
     "start_time": "2020-04-24T14:33:36.625665Z"
    },
    "hidden": true
   },
   "outputs": [],
   "source": [
    "from basic_manabase import BasicManabase\n",
    "from talisman_manabase import TalismanManabase\n",
    "from rampant_growth_manabase import RampantGrowthManabase\n",
    "from utils import compute_possible_draws"
   ]
  },
  {
   "cell_type": "markdown",
   "metadata": {},
   "source": [
    "## Params"
   ]
  },
  {
   "cell_type": "code",
   "execution_count": 2,
   "metadata": {
    "ExecuteTime": {
     "end_time": "2020-04-24T14:33:37.431660Z",
     "start_time": "2020-04-24T14:33:37.427720Z"
    }
   },
   "outputs": [],
   "source": [
    "number_of_given_card = 1\n",
    "cmc_of_given_card = 3\n",
    "number_of_lands = 40\n",
    "number_of_basic_lands = 12\n",
    "number_of_talismans = 3\n",
    "number_of_rampant_growths = 3"
   ]
  },
  {
   "cell_type": "markdown",
   "metadata": {
    "heading_collapsed": true
   },
   "source": [
    "## Basic Manabase"
   ]
  },
  {
   "cell_type": "code",
   "execution_count": 3,
   "metadata": {
    "ExecuteTime": {
     "end_time": "2020-04-24T14:33:37.457729Z",
     "start_time": "2020-04-24T14:33:37.433662Z"
    },
    "hidden": true
   },
   "outputs": [],
   "source": [
    "basic_manabase = BasicManabase(number_of_given_card = number_of_given_card,\n",
    "                                number_of_lands = number_of_lands,\n",
    "                               cmc_of_given_card = cmc_of_given_card)"
   ]
  },
  {
   "cell_type": "code",
   "execution_count": 4,
   "metadata": {
    "ExecuteTime": {
     "end_time": "2020-04-24T14:33:37.475660Z",
     "start_time": "2020-04-24T14:33:37.458682Z"
    },
    "hidden": true
   },
   "outputs": [
    {
     "data": {
      "text/html": [
       "<div>\n",
       "<style scoped>\n",
       "    .dataframe tbody tr th:only-of-type {\n",
       "        vertical-align: middle;\n",
       "    }\n",
       "\n",
       "    .dataframe tbody tr th {\n",
       "        vertical-align: top;\n",
       "    }\n",
       "\n",
       "    .dataframe thead th {\n",
       "        text-align: right;\n",
       "    }\n",
       "</style>\n",
       "<table border=\"1\" class=\"dataframe\">\n",
       "  <thead>\n",
       "    <tr style=\"text-align: right;\">\n",
       "      <th></th>\n",
       "      <th>Draw 0</th>\n",
       "      <th>Draw 1</th>\n",
       "      <th>Draw 2</th>\n",
       "      <th>Draw 3</th>\n",
       "      <th>Draw 4</th>\n",
       "      <th>Draw 5</th>\n",
       "      <th>Draw 6</th>\n",
       "    </tr>\n",
       "  </thead>\n",
       "  <tbody>\n",
       "    <tr>\n",
       "      <th>0</th>\n",
       "      <td>0.070707</td>\n",
       "      <td>0.080808</td>\n",
       "      <td>0.090909</td>\n",
       "      <td>0.10101</td>\n",
       "      <td>0.111111</td>\n",
       "      <td>0.121212</td>\n",
       "      <td>0.131313</td>\n",
       "    </tr>\n",
       "  </tbody>\n",
       "</table>\n",
       "</div>"
      ],
      "text/plain": [
       "     Draw 0    Draw 1    Draw 2   Draw 3    Draw 4    Draw 5    Draw 6\n",
       "0  0.070707  0.080808  0.090909  0.10101  0.111111  0.121212  0.131313"
      ]
     },
     "execution_count": 4,
     "metadata": {},
     "output_type": "execute_result"
    }
   ],
   "source": [
    "basic_manabase.pa_df"
   ]
  },
  {
   "cell_type": "code",
   "execution_count": 5,
   "metadata": {
    "ExecuteTime": {
     "end_time": "2020-04-24T14:33:37.494703Z",
     "start_time": "2020-04-24T14:33:37.480679Z"
    },
    "hidden": true
   },
   "outputs": [
    {
     "data": {
      "text/html": [
       "<div>\n",
       "<style scoped>\n",
       "    .dataframe tbody tr th:only-of-type {\n",
       "        vertical-align: middle;\n",
       "    }\n",
       "\n",
       "    .dataframe tbody tr th {\n",
       "        vertical-align: top;\n",
       "    }\n",
       "\n",
       "    .dataframe thead th {\n",
       "        text-align: right;\n",
       "    }\n",
       "</style>\n",
       "<table border=\"1\" class=\"dataframe\">\n",
       "  <thead>\n",
       "    <tr style=\"text-align: right;\">\n",
       "      <th></th>\n",
       "      <th>Draw 0</th>\n",
       "      <th>Draw 1</th>\n",
       "      <th>Draw 2</th>\n",
       "      <th>Draw 3</th>\n",
       "      <th>Draw 4</th>\n",
       "      <th>Draw 5</th>\n",
       "      <th>Draw 6</th>\n",
       "    </tr>\n",
       "  </thead>\n",
       "  <tbody>\n",
       "    <tr>\n",
       "      <th>0</th>\n",
       "      <td>0.593712</td>\n",
       "      <td>0.702056</td>\n",
       "      <td>0.787779</td>\n",
       "      <td>0.852684</td>\n",
       "      <td>0.900086</td>\n",
       "      <td>0.933662</td>\n",
       "      <td>0.956819</td>\n",
       "    </tr>\n",
       "  </tbody>\n",
       "</table>\n",
       "</div>"
      ],
      "text/plain": [
       "     Draw 0    Draw 1    Draw 2    Draw 3    Draw 4    Draw 5    Draw 6\n",
       "0  0.593712  0.702056  0.787779  0.852684  0.900086  0.933662  0.956819"
      ]
     },
     "execution_count": 5,
     "metadata": {},
     "output_type": "execute_result"
    }
   ],
   "source": [
    "basic_manabase.pb_df"
   ]
  },
  {
   "cell_type": "code",
   "execution_count": 6,
   "metadata": {
    "ExecuteTime": {
     "end_time": "2020-04-24T14:33:37.514689Z",
     "start_time": "2020-04-24T14:33:37.502661Z"
    },
    "hidden": true
   },
   "outputs": [
    {
     "data": {
      "text/html": [
       "<div>\n",
       "<style scoped>\n",
       "    .dataframe tbody tr th:only-of-type {\n",
       "        vertical-align: middle;\n",
       "    }\n",
       "\n",
       "    .dataframe tbody tr th {\n",
       "        vertical-align: top;\n",
       "    }\n",
       "\n",
       "    .dataframe thead th {\n",
       "        text-align: right;\n",
       "    }\n",
       "</style>\n",
       "<table border=\"1\" class=\"dataframe\">\n",
       "  <thead>\n",
       "    <tr style=\"text-align: right;\">\n",
       "      <th></th>\n",
       "      <th>Draw 0</th>\n",
       "      <th>Draw 1</th>\n",
       "      <th>Draw 2</th>\n",
       "      <th>Draw 3</th>\n",
       "      <th>Draw 4</th>\n",
       "      <th>Draw 5</th>\n",
       "      <th>Draw 6</th>\n",
       "    </tr>\n",
       "  </thead>\n",
       "  <tbody>\n",
       "    <tr>\n",
       "      <th>0</th>\n",
       "      <td>0.033447</td>\n",
       "      <td>0.048719</td>\n",
       "      <td>0.064616</td>\n",
       "      <td>0.080351</td>\n",
       "      <td>0.095457</td>\n",
       "      <td>0.109722</td>\n",
       "      <td>0.123118</td>\n",
       "    </tr>\n",
       "  </tbody>\n",
       "</table>\n",
       "</div>"
      ],
      "text/plain": [
       "     Draw 0    Draw 1    Draw 2    Draw 3    Draw 4    Draw 5    Draw 6\n",
       "0  0.033447  0.048719  0.064616  0.080351  0.095457  0.109722  0.123118"
      ]
     },
     "execution_count": 6,
     "metadata": {},
     "output_type": "execute_result"
    }
   ],
   "source": [
    "basic_manabase.pab_df"
   ]
  },
  {
   "cell_type": "code",
   "execution_count": 7,
   "metadata": {
    "ExecuteTime": {
     "end_time": "2020-04-24T14:33:37.534693Z",
     "start_time": "2020-04-24T14:33:37.519663Z"
    },
    "hidden": true
   },
   "outputs": [
    {
     "data": {
      "text/html": [
       "<div>\n",
       "<style scoped>\n",
       "    .dataframe tbody tr th:only-of-type {\n",
       "        vertical-align: middle;\n",
       "    }\n",
       "\n",
       "    .dataframe tbody tr th {\n",
       "        vertical-align: top;\n",
       "    }\n",
       "\n",
       "    .dataframe thead th {\n",
       "        text-align: right;\n",
       "    }\n",
       "</style>\n",
       "<table border=\"1\" class=\"dataframe\">\n",
       "  <thead>\n",
       "    <tr style=\"text-align: right;\">\n",
       "      <th></th>\n",
       "      <th>Draw 0</th>\n",
       "      <th>Draw 1</th>\n",
       "      <th>Draw 2</th>\n",
       "      <th>Draw 3</th>\n",
       "      <th>Draw 4</th>\n",
       "      <th>Draw 5</th>\n",
       "      <th>Draw 6</th>\n",
       "    </tr>\n",
       "  </thead>\n",
       "  <tbody>\n",
       "    <tr>\n",
       "      <th>0</th>\n",
       "      <td>0.056336</td>\n",
       "      <td>0.069394</td>\n",
       "      <td>0.082023</td>\n",
       "      <td>0.094234</td>\n",
       "      <td>0.106053</td>\n",
       "      <td>0.117518</td>\n",
       "      <td>0.128674</td>\n",
       "    </tr>\n",
       "  </tbody>\n",
       "</table>\n",
       "</div>"
      ],
      "text/plain": [
       "     Draw 0    Draw 1    Draw 2    Draw 3    Draw 4    Draw 5    Draw 6\n",
       "0  0.056336  0.069394  0.082023  0.094234  0.106053  0.117518  0.128674"
      ]
     },
     "execution_count": 7,
     "metadata": {},
     "output_type": "execute_result"
    }
   ],
   "source": [
    "basic_manabase.palb_df"
   ]
  },
  {
   "cell_type": "code",
   "execution_count": 8,
   "metadata": {
    "ExecuteTime": {
     "end_time": "2020-04-24T14:33:37.549663Z",
     "start_time": "2020-04-24T14:33:37.538663Z"
    },
    "hidden": true
   },
   "outputs": [
    {
     "data": {
      "text/html": [
       "<div>\n",
       "<style scoped>\n",
       "    .dataframe tbody tr th:only-of-type {\n",
       "        vertical-align: middle;\n",
       "    }\n",
       "\n",
       "    .dataframe tbody tr th {\n",
       "        vertical-align: top;\n",
       "    }\n",
       "\n",
       "    .dataframe thead th {\n",
       "        text-align: right;\n",
       "    }\n",
       "</style>\n",
       "<table border=\"1\" class=\"dataframe\">\n",
       "  <thead>\n",
       "    <tr style=\"text-align: right;\">\n",
       "      <th></th>\n",
       "      <th>Draw 0</th>\n",
       "      <th>Draw 1</th>\n",
       "      <th>Draw 2</th>\n",
       "      <th>Draw 3</th>\n",
       "      <th>Draw 4</th>\n",
       "      <th>Draw 5</th>\n",
       "      <th>Draw 6</th>\n",
       "    </tr>\n",
       "  </thead>\n",
       "  <tbody>\n",
       "    <tr>\n",
       "      <th>0</th>\n",
       "      <td>0.473037</td>\n",
       "      <td>0.602893</td>\n",
       "      <td>0.710774</td>\n",
       "      <td>0.79548</td>\n",
       "      <td>0.859111</td>\n",
       "      <td>0.905208</td>\n",
       "      <td>0.937587</td>\n",
       "    </tr>\n",
       "  </tbody>\n",
       "</table>\n",
       "</div>"
      ],
      "text/plain": [
       "     Draw 0    Draw 1    Draw 2   Draw 3    Draw 4    Draw 5    Draw 6\n",
       "0  0.473037  0.602893  0.710774  0.79548  0.859111  0.905208  0.937587"
      ]
     },
     "execution_count": 8,
     "metadata": {},
     "output_type": "execute_result"
    }
   ],
   "source": [
    "basic_manabase.pbla_df"
   ]
  },
  {
   "cell_type": "markdown",
   "metadata": {},
   "source": [
    "## Talisman Manabase"
   ]
  },
  {
   "cell_type": "code",
   "execution_count": 9,
   "metadata": {
    "ExecuteTime": {
     "end_time": "2020-04-24T14:33:37.721791Z",
     "start_time": "2020-04-24T14:33:37.552664Z"
    }
   },
   "outputs": [],
   "source": [
    "talisman_manabase = TalismanManabase(number_of_given_card = number_of_given_card,\n",
    "                                number_of_lands = number_of_lands,\n",
    "                               number_of_talismans = number_of_talismans,\n",
    "                               cmc_of_given_card = cmc_of_given_card)"
   ]
  },
  {
   "cell_type": "code",
   "execution_count": 10,
   "metadata": {
    "ExecuteTime": {
     "end_time": "2020-04-24T14:33:37.737659Z",
     "start_time": "2020-04-24T14:33:37.722706Z"
    }
   },
   "outputs": [
    {
     "data": {
      "text/html": [
       "<div>\n",
       "<style scoped>\n",
       "    .dataframe tbody tr th:only-of-type {\n",
       "        vertical-align: middle;\n",
       "    }\n",
       "\n",
       "    .dataframe tbody tr th {\n",
       "        vertical-align: top;\n",
       "    }\n",
       "\n",
       "    .dataframe thead th {\n",
       "        text-align: right;\n",
       "    }\n",
       "</style>\n",
       "<table border=\"1\" class=\"dataframe\">\n",
       "  <thead>\n",
       "    <tr style=\"text-align: right;\">\n",
       "      <th></th>\n",
       "      <th>Draw 0</th>\n",
       "      <th>Draw 1</th>\n",
       "      <th>Draw 2</th>\n",
       "      <th>Draw 3</th>\n",
       "      <th>Draw 4</th>\n",
       "      <th>Draw 5</th>\n",
       "      <th>Draw 6</th>\n",
       "    </tr>\n",
       "  </thead>\n",
       "  <tbody>\n",
       "    <tr>\n",
       "      <th>0</th>\n",
       "      <td>0.070707</td>\n",
       "      <td>0.080808</td>\n",
       "      <td>0.090909</td>\n",
       "      <td>0.10101</td>\n",
       "      <td>0.111111</td>\n",
       "      <td>0.121212</td>\n",
       "      <td>0.131313</td>\n",
       "    </tr>\n",
       "  </tbody>\n",
       "</table>\n",
       "</div>"
      ],
      "text/plain": [
       "     Draw 0    Draw 1    Draw 2   Draw 3    Draw 4    Draw 5    Draw 6\n",
       "0  0.070707  0.080808  0.090909  0.10101  0.111111  0.121212  0.131313"
      ]
     },
     "execution_count": 10,
     "metadata": {},
     "output_type": "execute_result"
    }
   ],
   "source": [
    "talisman_manabase.pa_df"
   ]
  },
  {
   "cell_type": "code",
   "execution_count": 11,
   "metadata": {
    "ExecuteTime": {
     "end_time": "2020-04-24T14:33:37.755693Z",
     "start_time": "2020-04-24T14:33:37.739658Z"
    }
   },
   "outputs": [
    {
     "data": {
      "text/html": [
       "<div>\n",
       "<style scoped>\n",
       "    .dataframe tbody tr th:only-of-type {\n",
       "        vertical-align: middle;\n",
       "    }\n",
       "\n",
       "    .dataframe tbody tr th {\n",
       "        vertical-align: top;\n",
       "    }\n",
       "\n",
       "    .dataframe thead th {\n",
       "        text-align: right;\n",
       "    }\n",
       "</style>\n",
       "<table border=\"1\" class=\"dataframe\">\n",
       "  <thead>\n",
       "    <tr style=\"text-align: right;\">\n",
       "      <th></th>\n",
       "      <th>Draw 0</th>\n",
       "      <th>Draw 1</th>\n",
       "      <th>Draw 2</th>\n",
       "      <th>Draw 3</th>\n",
       "      <th>Draw 4</th>\n",
       "      <th>Draw 5</th>\n",
       "      <th>Draw 6</th>\n",
       "    </tr>\n",
       "  </thead>\n",
       "  <tbody>\n",
       "    <tr>\n",
       "      <th>0</th>\n",
       "      <td>0.655881</td>\n",
       "      <td>0.759412</td>\n",
       "      <td>0.836999</td>\n",
       "      <td>0.892585</td>\n",
       "      <td>0.930962</td>\n",
       "      <td>0.956632</td>\n",
       "      <td>0.973332</td>\n",
       "    </tr>\n",
       "  </tbody>\n",
       "</table>\n",
       "</div>"
      ],
      "text/plain": [
       "     Draw 0    Draw 1    Draw 2    Draw 3    Draw 4    Draw 5    Draw 6\n",
       "0  0.655881  0.759412  0.836999  0.892585  0.930962  0.956632  0.973332"
      ]
     },
     "execution_count": 11,
     "metadata": {},
     "output_type": "execute_result"
    }
   ],
   "source": [
    "talisman_manabase.pb_df"
   ]
  },
  {
   "cell_type": "code",
   "execution_count": 12,
   "metadata": {
    "ExecuteTime": {
     "end_time": "2020-04-24T14:33:37.777686Z",
     "start_time": "2020-04-24T14:33:37.757662Z"
    }
   },
   "outputs": [
    {
     "data": {
      "text/html": [
       "<div>\n",
       "<style scoped>\n",
       "    .dataframe tbody tr th:only-of-type {\n",
       "        vertical-align: middle;\n",
       "    }\n",
       "\n",
       "    .dataframe tbody tr th {\n",
       "        vertical-align: top;\n",
       "    }\n",
       "\n",
       "    .dataframe thead th {\n",
       "        text-align: right;\n",
       "    }\n",
       "</style>\n",
       "<table border=\"1\" class=\"dataframe\">\n",
       "  <thead>\n",
       "    <tr style=\"text-align: right;\">\n",
       "      <th></th>\n",
       "      <th>Draw 0</th>\n",
       "      <th>Draw 1</th>\n",
       "      <th>Draw 2</th>\n",
       "      <th>Draw 3</th>\n",
       "      <th>Draw 4</th>\n",
       "      <th>Draw 5</th>\n",
       "      <th>Draw 6</th>\n",
       "    </tr>\n",
       "  </thead>\n",
       "  <tbody>\n",
       "    <tr>\n",
       "      <th>0</th>\n",
       "      <td>0.037807</td>\n",
       "      <td>0.053746</td>\n",
       "      <td>0.069791</td>\n",
       "      <td>0.085245</td>\n",
       "      <td>0.099784</td>\n",
       "      <td>0.113343</td>\n",
       "      <td>0.126009</td>\n",
       "    </tr>\n",
       "  </tbody>\n",
       "</table>\n",
       "</div>"
      ],
      "text/plain": [
       "     Draw 0    Draw 1    Draw 2    Draw 3    Draw 4    Draw 5    Draw 6\n",
       "0  0.037807  0.053746  0.069791  0.085245  0.099784  0.113343  0.126009"
      ]
     },
     "execution_count": 12,
     "metadata": {},
     "output_type": "execute_result"
    }
   ],
   "source": [
    "talisman_manabase.pab_df"
   ]
  },
  {
   "cell_type": "code",
   "execution_count": 13,
   "metadata": {
    "ExecuteTime": {
     "end_time": "2020-04-24T14:33:37.811683Z",
     "start_time": "2020-04-24T14:33:37.787669Z"
    }
   },
   "outputs": [
    {
     "data": {
      "text/html": [
       "<div>\n",
       "<style scoped>\n",
       "    .dataframe tbody tr th:only-of-type {\n",
       "        vertical-align: middle;\n",
       "    }\n",
       "\n",
       "    .dataframe tbody tr th {\n",
       "        vertical-align: top;\n",
       "    }\n",
       "\n",
       "    .dataframe thead th {\n",
       "        text-align: right;\n",
       "    }\n",
       "</style>\n",
       "<table border=\"1\" class=\"dataframe\">\n",
       "  <thead>\n",
       "    <tr style=\"text-align: right;\">\n",
       "      <th></th>\n",
       "      <th>Draw 0</th>\n",
       "      <th>Draw 1</th>\n",
       "      <th>Draw 2</th>\n",
       "      <th>Draw 3</th>\n",
       "      <th>Draw 4</th>\n",
       "      <th>Draw 5</th>\n",
       "      <th>Draw 6</th>\n",
       "    </tr>\n",
       "  </thead>\n",
       "  <tbody>\n",
       "    <tr>\n",
       "      <th>0</th>\n",
       "      <td>0.057643</td>\n",
       "      <td>0.070773</td>\n",
       "      <td>0.083383</td>\n",
       "      <td>0.095504</td>\n",
       "      <td>0.107183</td>\n",
       "      <td>0.118481</td>\n",
       "      <td>0.129461</td>\n",
       "    </tr>\n",
       "  </tbody>\n",
       "</table>\n",
       "</div>"
      ],
      "text/plain": [
       "     Draw 0    Draw 1    Draw 2    Draw 3    Draw 4    Draw 5    Draw 6\n",
       "0  0.057643  0.070773  0.083383  0.095504  0.107183  0.118481  0.129461"
      ]
     },
     "execution_count": 13,
     "metadata": {},
     "output_type": "execute_result"
    }
   ],
   "source": [
    "talisman_manabase.palb_df"
   ]
  },
  {
   "cell_type": "code",
   "execution_count": 14,
   "metadata": {
    "ExecuteTime": {
     "end_time": "2020-04-24T14:33:37.839658Z",
     "start_time": "2020-04-24T14:33:37.819662Z"
    }
   },
   "outputs": [
    {
     "data": {
      "text/html": [
       "<div>\n",
       "<style scoped>\n",
       "    .dataframe tbody tr th:only-of-type {\n",
       "        vertical-align: middle;\n",
       "    }\n",
       "\n",
       "    .dataframe tbody tr th {\n",
       "        vertical-align: top;\n",
       "    }\n",
       "\n",
       "    .dataframe thead th {\n",
       "        text-align: right;\n",
       "    }\n",
       "</style>\n",
       "<table border=\"1\" class=\"dataframe\">\n",
       "  <thead>\n",
       "    <tr style=\"text-align: right;\">\n",
       "      <th></th>\n",
       "      <th>Draw 0</th>\n",
       "      <th>Draw 1</th>\n",
       "      <th>Draw 2</th>\n",
       "      <th>Draw 3</th>\n",
       "      <th>Draw 4</th>\n",
       "      <th>Draw 5</th>\n",
       "      <th>Draw 6</th>\n",
       "    </tr>\n",
       "  </thead>\n",
       "  <tbody>\n",
       "    <tr>\n",
       "      <th>0</th>\n",
       "      <td>0.5347</td>\n",
       "      <td>0.665102</td>\n",
       "      <td>0.767703</td>\n",
       "      <td>0.843928</td>\n",
       "      <td>0.898053</td>\n",
       "      <td>0.935076</td>\n",
       "      <td>0.959606</td>\n",
       "    </tr>\n",
       "  </tbody>\n",
       "</table>\n",
       "</div>"
      ],
      "text/plain": [
       "   Draw 0    Draw 1    Draw 2    Draw 3    Draw 4    Draw 5    Draw 6\n",
       "0  0.5347  0.665102  0.767703  0.843928  0.898053  0.935076  0.959606"
      ]
     },
     "execution_count": 14,
     "metadata": {},
     "output_type": "execute_result"
    }
   ],
   "source": [
    "talisman_manabase.pbla_df"
   ]
  },
  {
   "cell_type": "markdown",
   "metadata": {},
   "source": [
    "## Rampant Growth Manabase"
   ]
  },
  {
   "cell_type": "code",
   "execution_count": 15,
   "metadata": {
    "ExecuteTime": {
     "end_time": "2020-04-24T14:33:45.113691Z",
     "start_time": "2020-04-24T14:33:37.841658Z"
    }
   },
   "outputs": [],
   "source": [
    "rampant_growth_manabase = RampantGrowthManabase(number_of_given_card = number_of_given_card,\n",
    "                                            number_of_lands = number_of_lands,\n",
    "                                            number_of_rampant_growths = number_of_rampant_growths,\n",
    "                                           number_of_basic_lands = number_of_basic_lands,\n",
    "                                           cmc_of_given_card = cmc_of_given_card)"
   ]
  },
  {
   "cell_type": "code",
   "execution_count": 16,
   "metadata": {
    "ExecuteTime": {
     "end_time": "2020-04-24T14:33:45.127668Z",
     "start_time": "2020-04-24T14:33:45.114665Z"
    }
   },
   "outputs": [
    {
     "data": {
      "text/html": [
       "<div>\n",
       "<style scoped>\n",
       "    .dataframe tbody tr th:only-of-type {\n",
       "        vertical-align: middle;\n",
       "    }\n",
       "\n",
       "    .dataframe tbody tr th {\n",
       "        vertical-align: top;\n",
       "    }\n",
       "\n",
       "    .dataframe thead th {\n",
       "        text-align: right;\n",
       "    }\n",
       "</style>\n",
       "<table border=\"1\" class=\"dataframe\">\n",
       "  <thead>\n",
       "    <tr style=\"text-align: right;\">\n",
       "      <th></th>\n",
       "      <th>Draw 0</th>\n",
       "      <th>Draw 1</th>\n",
       "      <th>Draw 2</th>\n",
       "      <th>Draw 3</th>\n",
       "      <th>Draw 4</th>\n",
       "      <th>Draw 5</th>\n",
       "      <th>Draw 6</th>\n",
       "    </tr>\n",
       "  </thead>\n",
       "  <tbody>\n",
       "    <tr>\n",
       "      <th>0</th>\n",
       "      <td>0.070707</td>\n",
       "      <td>0.080808</td>\n",
       "      <td>0.090909</td>\n",
       "      <td>0.10101</td>\n",
       "      <td>0.111111</td>\n",
       "      <td>0.121212</td>\n",
       "      <td>0.131313</td>\n",
       "    </tr>\n",
       "  </tbody>\n",
       "</table>\n",
       "</div>"
      ],
      "text/plain": [
       "     Draw 0    Draw 1    Draw 2   Draw 3    Draw 4    Draw 5    Draw 6\n",
       "0  0.070707  0.080808  0.090909  0.10101  0.111111  0.121212  0.131313"
      ]
     },
     "execution_count": 16,
     "metadata": {},
     "output_type": "execute_result"
    }
   ],
   "source": [
    "rampant_growth_manabase.pa_df"
   ]
  },
  {
   "cell_type": "code",
   "execution_count": 17,
   "metadata": {
    "ExecuteTime": {
     "end_time": "2020-04-24T14:33:45.141667Z",
     "start_time": "2020-04-24T14:33:45.129669Z"
    }
   },
   "outputs": [
    {
     "data": {
      "text/html": [
       "<div>\n",
       "<style scoped>\n",
       "    .dataframe tbody tr th:only-of-type {\n",
       "        vertical-align: middle;\n",
       "    }\n",
       "\n",
       "    .dataframe tbody tr th {\n",
       "        vertical-align: top;\n",
       "    }\n",
       "\n",
       "    .dataframe thead th {\n",
       "        text-align: right;\n",
       "    }\n",
       "</style>\n",
       "<table border=\"1\" class=\"dataframe\">\n",
       "  <thead>\n",
       "    <tr style=\"text-align: right;\">\n",
       "      <th></th>\n",
       "      <th>Draw 0</th>\n",
       "      <th>Draw 1</th>\n",
       "      <th>Draw 2</th>\n",
       "      <th>Draw 3</th>\n",
       "      <th>Draw 4</th>\n",
       "      <th>Draw 5</th>\n",
       "      <th>Draw 6</th>\n",
       "    </tr>\n",
       "  </thead>\n",
       "  <tbody>\n",
       "    <tr>\n",
       "      <th>0</th>\n",
       "      <td>0.655881</td>\n",
       "      <td>0.759412</td>\n",
       "      <td>0.836999</td>\n",
       "      <td>0.892585</td>\n",
       "      <td>0.930962</td>\n",
       "      <td>0.956632</td>\n",
       "      <td>0.973332</td>\n",
       "    </tr>\n",
       "  </tbody>\n",
       "</table>\n",
       "</div>"
      ],
      "text/plain": [
       "     Draw 0    Draw 1    Draw 2    Draw 3    Draw 4    Draw 5    Draw 6\n",
       "0  0.655881  0.759412  0.836999  0.892585  0.930962  0.956632  0.973332"
      ]
     },
     "execution_count": 17,
     "metadata": {},
     "output_type": "execute_result"
    }
   ],
   "source": [
    "rampant_growth_manabase.pb_df"
   ]
  },
  {
   "cell_type": "code",
   "execution_count": 18,
   "metadata": {
    "ExecuteTime": {
     "end_time": "2020-04-24T14:33:45.157672Z",
     "start_time": "2020-04-24T14:33:45.143668Z"
    }
   },
   "outputs": [
    {
     "data": {
      "text/html": [
       "<div>\n",
       "<style scoped>\n",
       "    .dataframe tbody tr th:only-of-type {\n",
       "        vertical-align: middle;\n",
       "    }\n",
       "\n",
       "    .dataframe tbody tr th {\n",
       "        vertical-align: top;\n",
       "    }\n",
       "\n",
       "    .dataframe thead th {\n",
       "        text-align: right;\n",
       "    }\n",
       "</style>\n",
       "<table border=\"1\" class=\"dataframe\">\n",
       "  <thead>\n",
       "    <tr style=\"text-align: right;\">\n",
       "      <th></th>\n",
       "      <th>Draw 0</th>\n",
       "      <th>Draw 1</th>\n",
       "      <th>Draw 2</th>\n",
       "      <th>Draw 3</th>\n",
       "      <th>Draw 4</th>\n",
       "      <th>Draw 5</th>\n",
       "      <th>Draw 6</th>\n",
       "    </tr>\n",
       "  </thead>\n",
       "  <tbody>\n",
       "    <tr>\n",
       "      <th>0</th>\n",
       "      <td>0.037589</td>\n",
       "      <td>0.053494</td>\n",
       "      <td>0.069532</td>\n",
       "      <td>0.085001</td>\n",
       "      <td>0.099567</td>\n",
       "      <td>0.113162</td>\n",
       "      <td>0.125864</td>\n",
       "    </tr>\n",
       "  </tbody>\n",
       "</table>\n",
       "</div>"
      ],
      "text/plain": [
       "     Draw 0    Draw 1    Draw 2    Draw 3    Draw 4    Draw 5    Draw 6\n",
       "0  0.037589  0.053494  0.069532  0.085001  0.099567  0.113162  0.125864"
      ]
     },
     "execution_count": 18,
     "metadata": {},
     "output_type": "execute_result"
    }
   ],
   "source": [
    "rampant_growth_manabase.pab_df"
   ]
  },
  {
   "cell_type": "code",
   "execution_count": 19,
   "metadata": {
    "ExecuteTime": {
     "end_time": "2020-04-24T14:33:45.178667Z",
     "start_time": "2020-04-24T14:33:45.159669Z"
    }
   },
   "outputs": [
    {
     "data": {
      "text/html": [
       "<div>\n",
       "<style scoped>\n",
       "    .dataframe tbody tr th:only-of-type {\n",
       "        vertical-align: middle;\n",
       "    }\n",
       "\n",
       "    .dataframe tbody tr th {\n",
       "        vertical-align: top;\n",
       "    }\n",
       "\n",
       "    .dataframe thead th {\n",
       "        text-align: right;\n",
       "    }\n",
       "</style>\n",
       "<table border=\"1\" class=\"dataframe\">\n",
       "  <thead>\n",
       "    <tr style=\"text-align: right;\">\n",
       "      <th></th>\n",
       "      <th>Draw 0</th>\n",
       "      <th>Draw 1</th>\n",
       "      <th>Draw 2</th>\n",
       "      <th>Draw 3</th>\n",
       "      <th>Draw 4</th>\n",
       "      <th>Draw 5</th>\n",
       "      <th>Draw 6</th>\n",
       "    </tr>\n",
       "  </thead>\n",
       "  <tbody>\n",
       "    <tr>\n",
       "      <th>0</th>\n",
       "      <td>0.057311</td>\n",
       "      <td>0.070442</td>\n",
       "      <td>0.083074</td>\n",
       "      <td>0.09523</td>\n",
       "      <td>0.106951</td>\n",
       "      <td>0.118292</td>\n",
       "      <td>0.129313</td>\n",
       "    </tr>\n",
       "  </tbody>\n",
       "</table>\n",
       "</div>"
      ],
      "text/plain": [
       "     Draw 0    Draw 1    Draw 2   Draw 3    Draw 4    Draw 5    Draw 6\n",
       "0  0.057311  0.070442  0.083074  0.09523  0.106951  0.118292  0.129313"
      ]
     },
     "execution_count": 19,
     "metadata": {},
     "output_type": "execute_result"
    }
   ],
   "source": [
    "rampant_growth_manabase.palb_df"
   ]
  },
  {
   "cell_type": "code",
   "execution_count": 20,
   "metadata": {
    "ExecuteTime": {
     "end_time": "2020-04-24T14:33:45.197672Z",
     "start_time": "2020-04-24T14:33:45.180700Z"
    }
   },
   "outputs": [
    {
     "data": {
      "text/html": [
       "<div>\n",
       "<style scoped>\n",
       "    .dataframe tbody tr th:only-of-type {\n",
       "        vertical-align: middle;\n",
       "    }\n",
       "\n",
       "    .dataframe tbody tr th {\n",
       "        vertical-align: top;\n",
       "    }\n",
       "\n",
       "    .dataframe thead th {\n",
       "        text-align: right;\n",
       "    }\n",
       "</style>\n",
       "<table border=\"1\" class=\"dataframe\">\n",
       "  <thead>\n",
       "    <tr style=\"text-align: right;\">\n",
       "      <th></th>\n",
       "      <th>Draw 0</th>\n",
       "      <th>Draw 1</th>\n",
       "      <th>Draw 2</th>\n",
       "      <th>Draw 3</th>\n",
       "      <th>Draw 4</th>\n",
       "      <th>Draw 5</th>\n",
       "      <th>Draw 6</th>\n",
       "    </tr>\n",
       "  </thead>\n",
       "  <tbody>\n",
       "    <tr>\n",
       "      <th>0</th>\n",
       "      <td>0.531617</td>\n",
       "      <td>0.661991</td>\n",
       "      <td>0.764857</td>\n",
       "      <td>0.841506</td>\n",
       "      <td>0.896106</td>\n",
       "      <td>0.933582</td>\n",
       "      <td>0.958505</td>\n",
       "    </tr>\n",
       "  </tbody>\n",
       "</table>\n",
       "</div>"
      ],
      "text/plain": [
       "     Draw 0    Draw 1    Draw 2    Draw 3    Draw 4    Draw 5    Draw 6\n",
       "0  0.531617  0.661991  0.764857  0.841506  0.896106  0.933582  0.958505"
      ]
     },
     "execution_count": 20,
     "metadata": {},
     "output_type": "execute_result"
    }
   ],
   "source": [
    "rampant_growth_manabase.pbla_df"
   ]
  }
 ],
 "metadata": {
  "kernelspec": {
   "display_name": "Python 3",
   "language": "python",
   "name": "python3"
  },
  "language_info": {
   "codemirror_mode": {
    "name": "ipython",
    "version": 3
   },
   "file_extension": ".py",
   "mimetype": "text/x-python",
   "name": "python",
   "nbconvert_exporter": "python",
   "pygments_lexer": "ipython3",
   "version": "3.7.1"
  },
  "varInspector": {
   "cols": {
    "lenName": 16,
    "lenType": 16,
    "lenVar": 40
   },
   "kernels_config": {
    "python": {
     "delete_cmd_postfix": "",
     "delete_cmd_prefix": "del ",
     "library": "var_list.py",
     "varRefreshCmd": "print(var_dic_list())"
    },
    "r": {
     "delete_cmd_postfix": ") ",
     "delete_cmd_prefix": "rm(",
     "library": "var_list.r",
     "varRefreshCmd": "cat(var_dic_list()) "
    }
   },
   "types_to_exclude": [
    "module",
    "function",
    "builtin_function_or_method",
    "instance",
    "_Feature"
   ],
   "window_display": false
  }
 },
 "nbformat": 4,
 "nbformat_minor": 2
}
