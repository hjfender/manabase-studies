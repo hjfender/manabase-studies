{
 "cells": [
  {
   "cell_type": "markdown",
   "metadata": {
    "heading_collapsed": true
   },
   "source": [
    "## Preamble"
   ]
  },
  {
   "cell_type": "code",
   "execution_count": 1,
   "metadata": {
    "ExecuteTime": {
     "end_time": "2020-04-26T01:07:49.767828Z",
     "start_time": "2020-04-26T01:07:49.507457Z"
    },
    "hidden": true
   },
   "outputs": [],
   "source": [
    "import enums\n",
    "from utils import analyze_manabase\n",
    "from cards.lands.basic import Forest\n",
    "from cards.lands.shocklands import OvergrownTomb\n",
    "from cards.sorceries import RampantGrowth\n",
    "from collections import defaultdict"
   ]
  },
  {
   "cell_type": "markdown",
   "metadata": {
    "ExecuteTime": {
     "end_time": "2020-04-25T23:19:21.001885Z",
     "start_time": "2020-04-25T23:19:20.998885Z"
    }
   },
   "source": [
    "## Manabase"
   ]
  },
  {
   "cell_type": "code",
   "execution_count": 2,
   "metadata": {
    "ExecuteTime": {
     "end_time": "2020-04-26T01:07:49.774727Z",
     "start_time": "2020-04-26T01:07:49.769726Z"
    }
   },
   "outputs": [],
   "source": [
    "manabase = []\n",
    "\n",
    "for _ in range(0,20):\n",
    "    manabase.append(Forest())\n",
    "    \n",
    "for _ in range(0,19):\n",
    "    manabase.append(OvergrownTomb())\n",
    "    \n",
    "manabase.append(RampantGrowth())"
   ]
  },
  {
   "cell_type": "code",
   "execution_count": 3,
   "metadata": {
    "ExecuteTime": {
     "end_time": "2020-04-26T01:07:49.785728Z",
     "start_time": "2020-04-26T01:07:49.776726Z"
    }
   },
   "outputs": [
    {
     "name": "stdout",
     "output_type": "stream",
     "text": [
      "Forest x20\n",
      "Overgrown Tomb x19\n",
      "Rampant Growth x1\n"
     ]
    }
   ],
   "source": [
    "manabase_representation = defaultdict(int)\n",
    "\n",
    "for card in manabase:\n",
    "    manabase_representation[str(card)] += 1\n",
    "    \n",
    "for k, v in manabase_representation.items():\n",
    "    print(k, f'x{v}')\n"
   ]
  },
  {
   "cell_type": "markdown",
   "metadata": {},
   "source": [
    "## Scratchwork"
   ]
  },
  {
   "cell_type": "code",
   "execution_count": 4,
   "metadata": {
    "ExecuteTime": {
     "end_time": "2020-04-26T01:07:49.800761Z",
     "start_time": "2020-04-26T01:07:49.787727Z"
    }
   },
   "outputs": [
    {
     "data": {
      "text/plain": [
       "defaultdict(int,\n",
       "            {'BASIC': 20, 'LAND': 39, 'FOREST': 39, 'SWAMP': 19, 'SORCERY': 1})"
      ]
     },
     "execution_count": 4,
     "metadata": {},
     "output_type": "execute_result"
    }
   ],
   "source": [
    "analyze_manabase(manabase)"
   ]
  }
 ],
 "metadata": {
  "kernelspec": {
   "display_name": "Python 3",
   "language": "python",
   "name": "python3"
  },
  "language_info": {
   "codemirror_mode": {
    "name": "ipython",
    "version": 3
   },
   "file_extension": ".py",
   "mimetype": "text/x-python",
   "name": "python",
   "nbconvert_exporter": "python",
   "pygments_lexer": "ipython3",
   "version": "3.7.1"
  },
  "varInspector": {
   "cols": {
    "lenName": 16,
    "lenType": 16,
    "lenVar": 40
   },
   "kernels_config": {
    "python": {
     "delete_cmd_postfix": "",
     "delete_cmd_prefix": "del ",
     "library": "var_list.py",
     "varRefreshCmd": "print(var_dic_list())"
    },
    "r": {
     "delete_cmd_postfix": ") ",
     "delete_cmd_prefix": "rm(",
     "library": "var_list.r",
     "varRefreshCmd": "cat(var_dic_list()) "
    }
   },
   "types_to_exclude": [
    "module",
    "function",
    "builtin_function_or_method",
    "instance",
    "_Feature"
   ],
   "window_display": false
  }
 },
 "nbformat": 4,
 "nbformat_minor": 2
}
